{
 "cells": [
  {
   "cell_type": "markdown",
   "metadata": {},
   "source": [
    "# Canonical Economic Models"
   ]
  },
  {
   "cell_type": "markdown",
   "metadata": {},
   "source": [
    "You will learn how to solve **two canonical economic models**:\n",
    "\n",
    "1. The **overlapping generations (OLG) model**\n",
    "2. The **Ramsey model**\n",
    "\n",
    "**Main take-away:** Hopefully inspiration to analyze such models on your own."
   ]
  },
  {
   "cell_type": "code",
   "execution_count": 1,
   "metadata": {},
   "outputs": [],
   "source": [
    "%load_ext autoreload\n",
    "%autoreload 2\n",
    "\n",
    "import numpy as np\n",
    "from scipy import optimize\n",
    "\n",
    "# plotting\n",
    "import matplotlib.pyplot as plt\n",
    "plt.style.use('seaborn-whitegrid')\n",
    "plt.rcParams.update({'font.size': 12})\n",
    "\n",
    "# models\n",
    "from OLGModel import OLGModelClass\n",
    "from RamseyModel import RamseyModelClass"
   ]
  },
  {
   "cell_type": "markdown",
   "metadata": {},
   "source": [
    "# OverLapping Generations (OLG) model"
   ]
  },
  {
   "cell_type": "markdown",
   "metadata": {},
   "source": [
    "## Model description"
   ]
  },
  {
   "cell_type": "markdown",
   "metadata": {},
   "source": [
    "**Time:** Discrete and indexed by $t\\in\\{0,1,\\dots\\}$."
   ]
  },
  {
   "cell_type": "markdown",
   "metadata": {},
   "source": [
    "**Demographics:** Population is constant. A life consists of\n",
    "two periods, *young* and *old*."
   ]
  },
  {
   "cell_type": "markdown",
   "metadata": {},
   "source": [
    "**Households:** As young a household supplies labor exogenously, $L_{t}=1$, and earns a after tax wage $(1-\\tau_w)w_{t}$. Consumption as young and old\n",
    "are denoted by $C_{1t}$ and $C_{2t+1}$. The after-tax return on saving is $(1-\\tau_{r})r_{t+1}$. Utility is\n",
    "    \n",
    "$$\n",
    "\\begin{aligned}\n",
    "U & =\\max_{s_{t}\\in[0,1]}\\frac{C_{1t}^{1-\\sigma}}{1-\\sigma}+\\beta\\frac{C_{1t+1}^{1-\\sigma}}{1-\\sigma},\\,\\,\\,\\beta > -1, \\sigma > 0\\\\\n",
    " & \\text{s.t.}\\\\\n",
    " & S_{t}=s_{t}(1-\\tau_{w})w_{t}\\\\\n",
    " & C_{1t}=(1-s_{t})(1-\\tau_{w})w_{t}\\\\\n",
    " & C_{2t+1}=(1+(1-\\tau_{r})r_{t+1})S_{t}\n",
    "\\end{aligned}\n",
    "$$\n",
    "    \n",
    "The problem is formulated in terms of the saving rate $s_t\\in[0,1]$."
   ]
  },
  {
   "cell_type": "markdown",
   "metadata": {},
   "source": [
    "**Firms:** Firms rent capital $K_{t-1}$ at the rental rate $r_{t}^{K}$,\n",
    "and hires labor $E_{t}$ at the wage rate $w_{t}$. Firms have access\n",
    "to the production function\n",
    "    \n",
    "$$\n",
    "\\begin{aligned}\n",
    "Y_{t}=F(K_{t-1},E_{t})=(\\alpha K_{t-1}^{-\\theta}+(1-\\alpha)E_{t}^{-\\theta})^{\\frac{1}{-\\theta}},\\,\\,\\,\\theta>-1,\\alpha\\in(0,1)\n",
    "\\end{aligned}\n",
    "$$\n",
    "    \n",
    "Profits are\n",
    "    \n",
    "$$\n",
    "\\begin{aligned}\n",
    "\\Pi_{t}=Y_{t}-w_{t}E_{t}-r_{t}^{K}K_{t-1}\n",
    "\\end{aligned}\n",
    "$$"
   ]
  },
  {
   "cell_type": "markdown",
   "metadata": {},
   "source": [
    "**Government:** Choose public consumption, $G_{t}$, and tax rates $\\tau_w \\in [0,1]$ and $\\tau_r \\in [0,1]$. Total tax revenue is\n",
    "    \n",
    "$$\n",
    "\\begin{aligned}\n",
    "T_{t} &=\\tau_r r_{t} (K_{t-1}+B_{t-1})+\\tau_w w_{t}   \n",
    "\\end{aligned}\n",
    "$$\n",
    "    \n",
    "Government debt accumulates according to\n",
    "    \n",
    "$$\n",
    "\\begin{aligned}\n",
    "B_{t} &=(1+r^b_{t})B_{t-1}-T_{t}+G_{t} \n",
    "\\end{aligned}\n",
    "$$\n",
    "       \n",
    "A *balanced budget* implies $G_{t}=T_{t}-r_{t}B_{t-1}$."
   ]
  },
  {
   "cell_type": "markdown",
   "metadata": {},
   "source": [
    "**Capital:** Depreciates with a rate of $\\delta \\in [0,1]$."
   ]
  },
  {
   "cell_type": "markdown",
   "metadata": {},
   "source": [
    "**Equilibrium:**\n",
    "\n",
    "1. Households maximize utility\n",
    "2. Firms maximize profits\n",
    "3. No-arbitrage between bonds and capital\n",
    "\n",
    "    $$\n",
    "    r_{t}=r_{t}^{K}-\\delta=r_{t}^{b}\n",
    "    $$\n",
    "\n",
    "4. Labor market clears: $E_{t}=L_{t}=1$\n",
    "5. Goods market clears: $Y_{t}=C_{1t}+C_{2t}+G_{t}+I_{t}$\n",
    "6. Asset market clears: $S_{t}=K_{t}+B_{t}$\n",
    "7. Capital follows its law of motion: $K_{t}=(1-\\delta)K_{t-1}+I_{t}$"
   ]
  },
  {
   "cell_type": "markdown",
   "metadata": {},
   "source": [
    "**For more details on the OLG model:** See chapter 3-4 [here](https://web.econ.ku.dk/okocg/VM/VM-general/Material/Chapters-VM.htm)."
   ]
  },
  {
   "cell_type": "markdown",
   "metadata": {},
   "source": [
    "## Solution and simulation"
   ]
  },
  {
   "cell_type": "markdown",
   "metadata": {},
   "source": [
    "**Implication of profit maximization:** From FOCs\n",
    "\n",
    "$$\n",
    "\\begin{aligned}\n",
    "r_{t}^{k} & =F_{K}(K_{t-1},E_{t})=\\alpha K_{t-1}^{-\\theta-1}Y_{t}^{1+\\theta}\\\\\n",
    "w_{t} & =F_{E}(K_{t-1},E_{t})=(1-\\alpha)E_{t}^{-\\theta-1}Y_{t}^{1+\\theta}\n",
    "\\end{aligned}\n",
    "$$\n",
    "\n",
    "**Implication of utility maximization:** From FOC\n",
    "\n",
    "$$\n",
    "\\begin{aligned}\n",
    "C_{1t}^{-\\sigma}=\\beta (1+(1-\\tau_r)r_{t+1})C_{2t+1}^{-\\sigma}\n",
    "\\end{aligned}\n",
    "$$"
   ]
  },
  {
   "cell_type": "markdown",
   "metadata": {},
   "source": [
    "**Simulation algorithm:** At the beginning of period $t$, the\n",
    "economy can be summarized in the state variables $K_{t-1}$ and $B_{t-1}$.  *Before* $s_t$ is known, we can calculate:\n",
    "\n",
    "$$\n",
    "\\begin{aligned}\n",
    "Y_{t} & =F(K_{t-1},1)\\\\\n",
    "r_{t}^{k} & =F_{K}(K_{t-1},1)\\\\\n",
    "w_{t} & =F_{E}(K_{t-1},1)\\\\\n",
    "r_{t} & =r^k_{t}-\\delta\\\\\n",
    "r_{t}^{b} & =r_{t}\\\\\n",
    "\\tilde{r}_{t} & =(1-\\tau_{r})r_{t}\\\\\n",
    "C_{2t} & =(1+\\tilde{r}_{t})(K_{t-1}+B_{t-1})\\\\\n",
    "T_{t} & =\\tau_{r}r_{t}(K_{t-1}+B_{t-1})+\\tau_{w}w_{t}\\\\\n",
    "B_{t} & =(1+r^b_{t})B_{t-1}+T_{t}-G_{t}\\\\\n",
    "\\end{aligned}\n",
    "$$\n",
    "\n",
    "*After* $s_t$ is known we can calculate:\n",
    "\n",
    "$$\n",
    "\\begin{aligned}\n",
    "C_{1t} & = (1-s_{t})(1-\\tau_{w})w_{t}\\\\\n",
    "I_{t} & =Y_{t}-C_{1t}-C_{2t}-G_{t}\\\\\n",
    "K_{t} & =(1-\\delta)K_{t-1} + I_t\n",
    "\\end{aligned}\n",
    "$$"
   ]
  },
  {
   "cell_type": "markdown",
   "metadata": {},
   "source": [
    "**Solution algorithm:** Simulate forward choosing $s_{t}$ so\n",
    "that we always have\n",
    "\n",
    "$$\n",
    "\\begin{aligned}\n",
    "C_{1t}^{-\\sigma}=\\beta(1+\\tilde{r}_{t+1})C_{2t+1}^{-\\sigma}\n",
    "\\end{aligned}\n",
    "$$"
   ]
  },
  {
   "cell_type": "markdown",
   "metadata": {},
   "source": [
    "**Implementation:**\n",
    "\n",
    "1. Use a bisection root-finder to determine $s_t$\n",
    "2. Low $s_t$: A lot of consumption today. Low marginal utility. LHS < RHS.\n",
    "3. High $s_t$: Little consumption today. High marginal utility. LHS > RHS.\n",
    "4. Problem: Too low $s_t$ might not be feasible if $B_t > 0$.\n",
    "\n",
    "**Note:** Never errors in the Euler-equation due to *perfect foresight*."
   ]
  },
  {
   "cell_type": "markdown",
   "metadata": {},
   "source": [
    "**Question:** Are all the requirements for the equilibrium satisfied?"
   ]
  },
  {
   "cell_type": "markdown",
   "metadata": {},
   "source": [
    "## Test case"
   ]
  },
  {
   "cell_type": "markdown",
   "metadata": {},
   "source": [
    "1. Production is Cobb-Douglas ($\\theta = 0$)\n",
    "2. Utility is logarithmic ($\\sigma = 1$)\n",
    "3. The government is not doing anything ($\\tau_w=\\tau_r=0$, $T_t = G_t = 0$ and $B_t = 0$) \n",
    "\n",
    "**Analytical steady state:** It can be proven\n",
    "\n",
    "$$ \\lim_{t\\rightarrow\\infty} K_t = \\left(\\frac{1-\\alpha}{1+1/\\beta}\\right)^{\\frac{1}{1-\\alpha}} $$"
   ]
  },
  {
   "cell_type": "markdown",
   "metadata": {},
   "source": [
    "**Setup:**"
   ]
  },
  {
   "cell_type": "code",
   "execution_count": 2,
   "metadata": {},
   "outputs": [
    {
     "name": "stdout",
     "output_type": "stream",
     "text": [
      "initializing the model:\n",
      "calling .setup()\n",
      "calling .allocate()\n"
     ]
    }
   ],
   "source": [
    "model = OLGModelClass()\n",
    "par = model.par # SimpeNamespace\n",
    "sim = model.sim # SimpeNamespace\n",
    "\n",
    "# a. production\n",
    "par.production_function = 'cobb-douglas'\n",
    "par.theta = 0.0\n",
    "\n",
    "# b. households\n",
    "par.sigma = 1.0\n",
    "\n",
    "# c. government\n",
    "par.tau_w = 0.0\n",
    "par.tau_r = 0.0\n",
    "sim.balanced_budget[:] = True # G changes to achieve this\n",
    "\n",
    "# d. initial values\n",
    "K_ss = ((1-par.alpha)/((1+1.0/par.beta)))**(1/(1-par.alpha))\n",
    "par.K_lag_ini = 0.1*K_ss"
   ]
  },
  {
   "cell_type": "markdown",
   "metadata": {},
   "source": [
    "### Simulate first period manually"
   ]
  },
  {
   "cell_type": "code",
   "execution_count": 3,
   "metadata": {},
   "outputs": [],
   "source": [
    "from OLGModel import simulate_before_s, simulate_after_s, find_s_bracket, calc_euler_error"
   ]
  },
  {
   "cell_type": "markdown",
   "metadata": {},
   "source": [
    "**Make a guess:**"
   ]
  },
  {
   "cell_type": "code",
   "execution_count": 4,
   "metadata": {},
   "outputs": [],
   "source": [
    "s_guess = 0.41"
   ]
  },
  {
   "cell_type": "markdown",
   "metadata": {},
   "source": [
    "**Evaluate first period:**"
   ]
  },
  {
   "cell_type": "code",
   "execution_count": 5,
   "metadata": {},
   "outputs": [
    {
     "name": "stdout",
     "output_type": "stream",
     "text": [
      "sim.C2[0] =  0.0973\n",
      "sim.C1[0] =  0.1221\n",
      "sim.C2[1] =  0.1855\n",
      "sim.rt[1] =  1.1871\n",
      "euler-error = -0.22834540\n"
     ]
    }
   ],
   "source": [
    "# a. initialize\n",
    "sim.K_lag[0] = par.K_lag_ini\n",
    "sim.B_lag[0] = par.B_lag_ini\n",
    "\n",
    "simulate_before_s(par,sim,t=0)\n",
    "print(f'{sim.C2[0] = : .4f}')\n",
    "\n",
    "simulate_after_s(par,sim,s=s_guess,t=0)\n",
    "print(f'{sim.C1[0] = : .4f}')\n",
    "\n",
    "simulate_before_s(par,sim,t=1)\n",
    "print(f'{sim.C2[1] = : .4f}')\n",
    "print(f'{sim.rt[1] = : .4f}')\n",
    "\n",
    "LHS_Euler = sim.C1[0]**(-par.sigma)\n",
    "RHS_Euler = (1+sim.rt[1])*par.beta * sim.C2[1]**(-par.sigma)\n",
    "print(f'euler-error = {LHS_Euler-RHS_Euler:.8f}')"
   ]
  },
  {
   "cell_type": "markdown",
   "metadata": {},
   "source": [
    "**Implemented as function:**"
   ]
  },
  {
   "cell_type": "code",
   "execution_count": 6,
   "metadata": {},
   "outputs": [
    {
     "name": "stdout",
     "output_type": "stream",
     "text": [
      "euler-error = -0.22834540\n"
     ]
    }
   ],
   "source": [
    "euler_error = calc_euler_error(s_guess,par,sim,t=0)\n",
    "print(f'euler-error = {euler_error:.8f}')"
   ]
  },
  {
   "cell_type": "markdown",
   "metadata": {},
   "source": [
    "**Find bracket to search in:**"
   ]
  },
  {
   "cell_type": "code",
   "execution_count": 7,
   "metadata": {},
   "outputs": [
    {
     "name": "stdout",
     "output_type": "stream",
     "text": [
      "euler-error for s =   0.99999999 = 483321577.17005599\n",
      "euler-error for s =   0.50000000 =   2.76183762\n",
      "euler-error for s =   0.25000001 =  -7.36489999\n",
      "bracket to search in with opposite signed errors:\n",
      "[  0.25000001-  0.50000000]\n"
     ]
    }
   ],
   "source": [
    "s_min,s_max = find_s_bracket(par,sim,t=0,do_print=True);"
   ]
  },
  {
   "cell_type": "markdown",
   "metadata": {},
   "source": [
    "**Call root-finder:**"
   ]
  },
  {
   "cell_type": "code",
   "execution_count": 8,
   "metadata": {},
   "outputs": [
    {
     "name": "stdout",
     "output_type": "stream",
     "text": [
      "      converged: True\n",
      "           flag: 'converged'\n",
      " function_calls: 39\n",
      "     iterations: 37\n",
      "           root: 0.41666666666653274\n"
     ]
    }
   ],
   "source": [
    "obj = lambda s: calc_euler_error(s,par,sim,t=0)\n",
    "result = optimize.root_scalar(obj,bracket=(s_min,s_max),method='bisect')\n",
    "print(result)"
   ]
  },
  {
   "cell_type": "markdown",
   "metadata": {},
   "source": [
    "**Check result:**"
   ]
  },
  {
   "cell_type": "code",
   "execution_count": 9,
   "metadata": {},
   "outputs": [
    {
     "name": "stdout",
     "output_type": "stream",
     "text": [
      "euler-error = -0.00000000\n"
     ]
    }
   ],
   "source": [
    "euler_error = calc_euler_error(result.root,par,sim,t=0)\n",
    "print(f'euler-error = {euler_error:.8f}')"
   ]
  },
  {
   "cell_type": "markdown",
   "metadata": {},
   "source": [
    "### Full simulation"
   ]
  },
  {
   "cell_type": "code",
   "execution_count": 10,
   "metadata": {},
   "outputs": [
    {
     "name": "stdout",
     "output_type": "stream",
     "text": [
      "simulation done in 0.03 secs\n"
     ]
    }
   ],
   "source": [
    "model.simulate()"
   ]
  },
  {
   "cell_type": "markdown",
   "metadata": {},
   "source": [
    "**Check euler-errors:**"
   ]
  },
  {
   "cell_type": "code",
   "execution_count": 11,
   "metadata": {},
   "outputs": [
    {
     "name": "stdout",
     "output_type": "stream",
     "text": [
      "t =  0: euler-error = -0.00000000\n",
      "t =  1: euler-error = -0.00000000\n",
      "t =  2: euler-error = -0.00000000\n",
      "t =  3: euler-error = -0.00000000\n",
      "t =  4: euler-error = -0.00000000\n"
     ]
    }
   ],
   "source": [
    "for t in range(5):\n",
    "    LHS_Euler = sim.C1[t]**(-par.sigma)\n",
    "    RHS_Euler = (1+sim.rt[t+1])*par.beta * sim.C2[t+1]**(-par.sigma)\n",
    "    print(f't = {t:2d}: euler-error = {LHS_Euler-RHS_Euler:.8f}')"
   ]
  },
  {
   "cell_type": "markdown",
   "metadata": {},
   "source": [
    "**Plot and check with analytical solution:**"
   ]
  },
  {
   "cell_type": "code",
   "execution_count": 12,
   "metadata": {},
   "outputs": [
    {
     "data": {
      "image/png": "[encoded data removed]",
      "text/plain": [
       "<Figure size 432x288 with 1 Axes>"
      ]
     },
     "metadata": {},
     "output_type": "display_data"
    }
   ],
   "source": [
    "fig = plt.figure(figsize=(6,6/1.5))\n",
    "ax = fig.add_subplot(1,1,1)\n",
    "ax.plot(model.sim.K_lag,label=r'$K_{t-1}$')\n",
    "ax.axhline(K_ss,ls='--',color='black',label='analytical steady state')\n",
    "ax.legend(frameon=True)\n",
    "fig.tight_layout()\n",
    "K_lag_old = model.sim.K_lag.copy()"
   ]
  },
  {
   "cell_type": "markdown",
   "metadata": {},
   "source": [
    "**Task:** Test if the starting point matters?"
   ]
  },
  {
   "cell_type": "markdown",
   "metadata": {},
   "source": [
    "**Additional check:** Not much should change with only small parameter changes. "
   ]
  },
  {
   "cell_type": "code",
   "execution_count": 13,
   "metadata": {},
   "outputs": [
    {
     "name": "stdout",
     "output_type": "stream",
     "text": [
      "simulation done in 0.03 secs\n"
     ]
    }
   ],
   "source": [
    "# a. production (close to cobb-douglas)\n",
    "par.production_function = 'ces'\n",
    "par.theta = 0.001\n",
    "\n",
    "# b. household (close to logarithmic)\n",
    "par.sigma = 1.1\n",
    "\n",
    "# c. goverment (weakly active)\n",
    "par.tau_w = 0.001\n",
    "par.tau_r = 0.001\n",
    "\n",
    "# d. simulate\n",
    "model.simulate()"
   ]
  },
  {
   "cell_type": "code",
   "execution_count": 14,
   "metadata": {},
   "outputs": [
    {
     "data": {
      "image/png": "[encoded data removed]",
      "text/plain": [
       "<Figure size 432x288 with 1 Axes>"
      ]
     },
     "metadata": {},
     "output_type": "display_data"
    }
   ],
   "source": [
    "fig = plt.figure(figsize=(6,6/1.5))\n",
    "ax = fig.add_subplot(1,1,1)\n",
    "ax.plot(model.sim.K_lag,label=r'$K_{t-1}$')\n",
    "ax.plot(K_lag_old,label=r'$K_{t-1}$ ($\\theta = 0.0, \\sigma = 1.0$, inactive government)')\n",
    "ax.axhline(K_ss,ls='--',color='black',label='analytical steady state (wrong)')\n",
    "ax.legend(frameon=True)\n",
    "fig.tight_layout()"
   ]
  },
  {
   "cell_type": "markdown",
   "metadata": {},
   "source": [
    "## Active government"
   ]
  },
  {
   "cell_type": "code",
   "execution_count": 15,
   "metadata": {},
   "outputs": [
    {
     "name": "stdout",
     "output_type": "stream",
     "text": [
      "initializing the model:\n",
      "calling .setup()\n",
      "calling .allocate()\n"
     ]
    }
   ],
   "source": [
    "model = OLGModelClass()\n",
    "par = model.par\n",
    "sim = model.sim"
   ]
  },
  {
   "cell_type": "markdown",
   "metadata": {},
   "source": [
    "**Baseline:**"
   ]
  },
  {
   "cell_type": "code",
   "execution_count": 16,
   "metadata": {},
   "outputs": [
    {
     "name": "stdout",
     "output_type": "stream",
     "text": [
      "simulation done in 0.05 secs\n"
     ]
    }
   ],
   "source": [
    "model.simulate()"
   ]
  },
  {
   "cell_type": "code",
   "execution_count": 17,
   "metadata": {},
   "outputs": [
    {
     "data": {
      "image/png": "[encoded data removed]",
      "text/plain": [
       "<Figure size 432x288 with 1 Axes>"
      ]
     },
     "metadata": {},
     "output_type": "display_data"
    }
   ],
   "source": [
    "fig = plt.figure(figsize=(6,6/1.5))\n",
    "ax = fig.add_subplot(1,1,1)\n",
    "ax.plot(sim.K_lag/(sim.Y),label=r'$\\frac{K_{t-1}}{Y_t}$')\n",
    "ax.plot(sim.B_lag/(sim.Y),label=r'$\\frac{B_{t-1}}{Y_t}$')\n",
    "ax.legend(frameon=True)\n",
    "fig.tight_layout()"
   ]
  },
  {
   "cell_type": "markdown",
   "metadata": {},
   "source": [
    "**Remember steady state:**"
   ]
  },
  {
   "cell_type": "code",
   "execution_count": 18,
   "metadata": {},
   "outputs": [],
   "source": [
    "K_ss = sim.K_lag[-1]\n",
    "B_ss = sim.B_lag[-1]\n",
    "G_ss = sim.G[-1]"
   ]
  },
  {
   "cell_type": "markdown",
   "metadata": {},
   "source": [
    "**Spending spree of 5% in $T=3$ periods:**"
   ]
  },
  {
   "cell_type": "code",
   "execution_count": 19,
   "metadata": {},
   "outputs": [],
   "source": [
    "# a. start from steady state\n",
    "par.K_lag_ini = K_ss\n",
    "par.B_lag_ini = B_ss\n",
    "\n",
    "# b. spending spree\n",
    "T0 = 0\n",
    "dT = 3\n",
    "sim.G[T0:T0+dT] = 1.05*G_ss\n",
    "sim.balanced_budget[:T0] = True #G adjusts\n",
    "sim.balanced_budget[T0:T0+dT] = False # B adjusts\n",
    "sim.balanced_budget[T0+dT:] = True # G adjusts"
   ]
  },
  {
   "cell_type": "markdown",
   "metadata": {},
   "source": [
    "**Simulate:**"
   ]
  },
  {
   "cell_type": "code",
   "execution_count": 20,
   "metadata": {},
   "outputs": [
    {
     "name": "stdout",
     "output_type": "stream",
     "text": [
      "simulation done in 0.03 secs\n"
     ]
    }
   ],
   "source": [
    "model.simulate()"
   ]
  },
  {
   "cell_type": "markdown",
   "metadata": {},
   "source": [
    "**Crowding-out of capital:**"
   ]
  },
  {
   "cell_type": "code",
   "execution_count": 21,
   "metadata": {},
   "outputs": [
    {
     "data": {
      "image/png": "[encoded data removed]",
      "text/plain": [
       "<Figure size 432x288 with 1 Axes>"
      ]
     },
     "metadata": {},
     "output_type": "display_data"
    }
   ],
   "source": [
    "fig = plt.figure(figsize=(6,6/1.5))\n",
    "ax = fig.add_subplot(1,1,1)\n",
    "ax.plot(sim.K/(sim.Y),label=r'$\\frac{K_{t-1}}{Y_t}$')\n",
    "ax.plot(sim.B/(sim.Y),label=r'$\\frac{B_{t-1}}{Y_t}$')\n",
    "ax.legend(frameon=True)\n",
    "fig.tight_layout()"
   ]
  },
  {
   "cell_type": "markdown",
   "metadata": {},
   "source": [
    "**Question:** Would the households react today if the spending spree is say 10 periods in the future? "
   ]
  },
  {
   "cell_type": "markdown",
   "metadata": {},
   "source": [
    "## Getting an overview"
   ]
  },
  {
   "cell_type": "markdown",
   "metadata": {},
   "source": [
    "1. Spend 3 minutes looking at `OLGModel.py`\n",
    "2. Write one question at [https://b.socrative.com/login/student/](https://b.socrative.com/login/student/) with `ROOM=NUMECON`"
   ]
  },
  {
   "cell_type": "markdown",
   "metadata": {},
   "source": [
    "## Potential analysis and extension"
   ]
  },
  {
   "cell_type": "markdown",
   "metadata": {},
   "source": [
    "**Potential analysis:**\n",
    "\n",
    "1. Over-accumulation of capital relative to golden rule?\n",
    "2. Calibration to actual data\n",
    "3. Generational inequality\n",
    "4. Multiple equilibria"
   ]
  },
  {
   "cell_type": "markdown",
   "metadata": {},
   "source": [
    "**Extensions:**\n",
    "\n",
    "1. Add population and technology growth\n",
    "2. More detailed tax and transfer system\n",
    "3. Utility and productive effect of government consumption/investment\n",
    "4. Endogenous labor supply\n",
    "5. Bequest motive\n",
    "6. Uncertain returns on capital\n",
    "7. Additional assets (e.g. housing)\n",
    "8. More than two periods in the life-cycle (life-cycle)\n",
    "9. More than one dynasty (cross-sectional inequality dynamics)"
   ]
  },
  {
   "cell_type": "markdown",
   "metadata": {},
   "source": [
    "# Ramsey model"
   ]
  },
  {
   "cell_type": "markdown",
   "metadata": {},
   "source": [
    "... also called the Ramsey-Cass-Koopman model."
   ]
  },
  {
   "cell_type": "markdown",
   "metadata": {},
   "source": [
    "## Model descripton"
   ]
  },
  {
   "cell_type": "markdown",
   "metadata": {},
   "source": [
    "**Time:** Discrete and indexed by $t\\in\\{0,1,\\dots\\}$."
   ]
  },
  {
   "cell_type": "markdown",
   "metadata": {},
   "source": [
    "**Demographics::** Population is constant. Everybody lives forever."
   ]
  },
  {
   "cell_type": "markdown",
   "metadata": {},
   "source": [
    "**Household:** Households supply labor exogenously, $L_{t}=1$, and earns a wage $w_{t}$. The return on saving is $r_{t+1}$. Utility is \n",
    "\n",
    "$$\n",
    "\\begin{aligned}\n",
    "U & =\\max_{\\{C_{t}\\}_{t=0}^{\\infty}}\\sum_{t=0}^{\\infty}\\beta^{t}\\frac{C_{t}^{1-\\sigma}}{1-\\sigma},\\beta\\in(0,1),\\sigma>0\\\\\n",
    " & \\text{s.t.}\\\\\n",
    " & M_{t}=(1+r_{t})N_{t-1}+w_{t}\\\\\n",
    " & N_{t}=M_{t}-C_{t}\n",
    "\\end{aligned}\n",
    "$$\n",
    "\n",
    "where $M_{t}$ is cash-on-hand and $N_{t}$ is end-of-period assets."
   ]
  },
  {
   "cell_type": "markdown",
   "metadata": {},
   "source": [
    "**Firms:** Firms rent capital $K_{t-1}$ at the rental rate $r_{t}^{K}$\n",
    "and hires labor $E_{t}$ at the wage rate $w_{t}$. Firms have access\n",
    "to the production function\n",
    "    \n",
    "$$\n",
    "\\begin{aligned}\n",
    "Y_{t}= F(K_{t-1},E_{t})=A_t(\\alpha K_{t-1}^{-\\theta}+(1-\\alpha)E_{t}^{-\\theta})^{\\frac{1}{-\\theta}},\\,\\,\\,\\theta>-1,\\alpha\\in(0,1),A_t>0\n",
    "\\end{aligned}\n",
    "$$\n",
    "\n",
    "Profits are\n",
    "\n",
    "$$\n",
    "\\begin{aligned}\n",
    "\\Pi_{t}=Y_{t}-w_{t}E_{t}-r_{t}^{K}K_{t-1}\n",
    "\\end{aligned}\n",
    "$$"
   ]
  },
  {
   "cell_type": "markdown",
   "metadata": {},
   "source": [
    "**Equilibrium:**\n",
    "\n",
    "1. Households maximize utility\n",
    "2. Firms maximize profits\n",
    "3. Labor market clear: $E_{t}=L_{t}=1$\n",
    "4. Goods market clear: $Y_{t}=C_{t}+I_{t}$\n",
    "5. Asset market clear: $N_{t}=K_{t}$ and $r_{t}=r_{t}^{k}-\\delta$\n",
    "6. Capital follows its law of motion: $K_{t}=(1-\\delta)K_{t-1}+I_{t}$\n",
    "\n",
    "**Implication of profit maximization:** From FOCs\n",
    "\n",
    "$$\n",
    "\\begin{aligned}\n",
    "r_{t}^{k} & = F_{K}(K_{t-1},E_{t})=A_t \\alpha K_{t-1}^{-\\theta-1}Y_{t}^{-1}\\\\\n",
    "w_{t} & = F_{E}(K_{t-1},E_{t})=A_t (1-\\alpha)E_{t}^{-\\theta-1}Y_{t}^{-1}\n",
    "\\end{aligned}\n",
    "$$\n",
    "\n",
    "**Implication of utility maximization:** From FOCs\n",
    "\n",
    "$$\n",
    "\\begin{aligned}\n",
    "C_{t}^{-\\sigma}=\\beta(1+r_{t+1})C_{t+1}^{-\\sigma}\n",
    "\\end{aligned}\n",
    "$$"
   ]
  },
  {
   "cell_type": "markdown",
   "metadata": {},
   "source": [
    "**Solution algorithm:** \n",
    "\n",
    "We can summarize the model in the **non-linear equation system**\n",
    "\n",
    "$$\n",
    "\\begin{aligned}\n",
    "\\boldsymbol{H}(\\boldsymbol{K},\\boldsymbol{C},K_{-1})=\\left[\\begin{array}{c}\n",
    "H_{0}\\\\\n",
    "H_{1}\\\\\n",
    "\\begin{array}{c}\n",
    "\\vdots\\end{array}\n",
    "\\end{array}\\right]=\\left[\\begin{array}{c}\n",
    "0\\\\\n",
    "0\\\\\n",
    "\\begin{array}{c}\n",
    "\\vdots\\end{array}\n",
    "\\end{array}\\right]\n",
    "\\end{aligned}\n",
    "$$\n",
    "\n",
    "where $\\boldsymbol{K} = [K_0,K_1\\dots]$, $\\boldsymbol{C} = [C_0,C_1\\dots]$, and\n",
    "\n",
    "$$\n",
    "\\begin{aligned}\n",
    "H_{t}\n",
    "=\\left[\\begin{array}{c}\n",
    "C_{t}^{-\\sigma}-\\beta(1+r_{t+1})C_{t+1}^{-\\sigma}\\\\\n",
    "K_{t}-[(1-\\delta)K_{t-1}+Y_t-C_{t}]\n",
    "\\end{array}\\right]\n",
    "=\\left[\\begin{array}{c}\n",
    "C_{t}^{-\\sigma}-\\beta(1+F_{K}(K_{t},1))C_{t+1}^{-\\sigma}\\\\\n",
    "K_{t}-[(1-\\delta)K_{t-1} + F(K_{t-1},1)-C_{t}])\n",
    "\\end{array}\\right]\n",
    "\\end{aligned}\n",
    "$$\n",
    "\n",
    "**Path:** We refer to $\\boldsymbol{K}$ and $\\boldsymbol{C}$ as *transition paths*."
   ]
  },
  {
   "cell_type": "markdown",
   "metadata": {},
   "source": [
    "**Implementation:** We solve this equation system in **two steps**:\n",
    "\n",
    "1. Assume all variables are in steady  state after some **truncation horizon**.\n",
    "1. Calculate the numerical **jacobian** of $\\boldsymbol{H}$ wrt. $\\boldsymbol{K}$\n",
    "and $\\boldsymbol{C}$ around the steady state\n",
    "2. Solve the equation system using a **hand-written Broyden-solver**\n",
    "\n",
    "**Note:** The equation system can also be solved directly using `scipy.optimize.root`.\n",
    "\n",
    "**Remember:** The jacobian is just a gradient. I.e. the matrix of what the implied errors are in $\\boldsymbol{H}$ when a *single* $K_t$ or $C_t$ change."
   ]
  },
  {
   "cell_type": "markdown",
   "metadata": {},
   "source": [
    "## Solution"
   ]
  },
  {
   "cell_type": "code",
   "execution_count": 22,
   "metadata": {},
   "outputs": [
    {
     "name": "stdout",
     "output_type": "stream",
     "text": [
      "initializing the model:\n",
      "calling .setup()\n",
      "calling .allocate()\n"
     ]
    }
   ],
   "source": [
    "model = RamseyModelClass()\n",
    "par = model.par\n",
    "ss = model.ss\n",
    "path = model.path"
   ]
  },
  {
   "cell_type": "markdown",
   "metadata": {},
   "source": [
    "**Find steady state:** \n",
    "\n",
    "1. Target steady-state capital-output ratio, $K_{ss}/Y_{ss}$ of 4.0.\n",
    "2. Force steady-state output $Y_{ss} = 1$.\n",
    "3. Adjust $\\beta$ and $A_{ss}$ to achieve this."
   ]
  },
  {
   "cell_type": "code",
   "execution_count": 23,
   "metadata": {},
   "outputs": [
    {
     "name": "stdout",
     "output_type": "stream",
     "text": [
      "Y_ss = 1.0000\n",
      "K_ss/Y_ss = 4.0000\n",
      "rk_ss = 0.0750\n",
      "r_ss = 0.0250\n",
      "w_ss = 0.7000\n",
      "A = 0.6598\n",
      "beta = 0.9756\n"
     ]
    }
   ],
   "source": [
    "model.find_steady_state(KY_ss=4.0)"
   ]
  },
  {
   "cell_type": "markdown",
   "metadata": {},
   "source": [
    "**Test that errors and the path are 0:**"
   ]
  },
  {
   "cell_type": "code",
   "execution_count": 24,
   "metadata": {},
   "outputs": [],
   "source": [
    "# a. set initial value\n",
    "par.K_lag_ini = ss.K\n",
    "\n",
    "# b. set path\n",
    "path.A[:] = ss.A\n",
    "path.C[:] = ss.C\n",
    "path.K[:] = ss.K\n",
    "\n",
    "# c. check errors\n",
    "errors_ss = model.evaluate_path_errors()\n",
    "assert np.allclose(errors_ss,0.0)"
   ]
  },
  {
   "cell_type": "code",
   "execution_count": 25,
   "metadata": {},
   "outputs": [],
   "source": [
    "model.calculate_jacobian()"
   ]
  },
  {
   "cell_type": "markdown",
   "metadata": {},
   "source": [
    "**Solve:**"
   ]
  },
  {
   "cell_type": "code",
   "execution_count": 26,
   "metadata": {},
   "outputs": [
    {
     "name": "stdout",
     "output_type": "stream",
     "text": [
      " it =   0 -> max. abs. error =   2.08774760\n",
      " it =   1 -> max. abs. error =   0.03407048\n",
      " it =   2 -> max. abs. error =   0.04084472\n",
      " it =   3 -> max. abs. error =   0.00495803\n",
      " it =   4 -> max. abs. error =   0.01354190\n",
      " it =   5 -> max. abs. error =   0.01209108\n",
      " it =   6 -> max. abs. error =   0.00397825\n",
      " it =   7 -> max. abs. error =   0.00192043\n",
      " it =   8 -> max. abs. error =   0.00097483\n",
      " it =   9 -> max. abs. error =   0.00009018\n",
      " it =  10 -> max. abs. error =   0.00010485\n",
      " it =  11 -> max. abs. error =   0.00000476\n",
      " it =  12 -> max. abs. error =   0.00000737\n",
      " it =  13 -> max. abs. error =   0.00000045\n",
      " it =  14 -> max. abs. error =   0.00000038\n",
      " it =  15 -> max. abs. error =   0.00000002\n",
      " it =  16 -> max. abs. error =   0.00000002\n",
      " it =  17 -> max. abs. error =   0.00000000\n"
     ]
    }
   ],
   "source": [
    "par.K_lag_ini = 0.50*ss.K # start away from steady state\n",
    "model.solve() # find transition path"
   ]
  },
  {
   "cell_type": "code",
   "execution_count": 27,
   "metadata": {},
   "outputs": [
    {
     "data": {
      "image/png": "[encoded data removed]",
      "text/plain": [
       "<Figure size 432x288 with 1 Axes>"
      ]
     },
     "metadata": {},
     "output_type": "display_data"
    }
   ],
   "source": [
    "fig = plt.figure(figsize=(6,6/1.5))\n",
    "ax = fig.add_subplot(1,1,1)\n",
    "ax.plot(path.K_lag,label=r'$K_{t-1}$')\n",
    "ax.legend(frameon=True)\n",
    "fig.tight_layout()"
   ]
  },
  {
   "cell_type": "markdown",
   "metadata": {},
   "source": [
    "## Comparison with scipy solution"
   ]
  },
  {
   "cell_type": "markdown",
   "metadata": {},
   "source": [
    "**Note:** scipy computes the jacobian internally"
   ]
  },
  {
   "cell_type": "code",
   "execution_count": 28,
   "metadata": {},
   "outputs": [
    {
     "name": "stdout",
     "output_type": "stream",
     "text": [
      "initializing the model:\n",
      "calling .setup()\n",
      "calling .allocate()\n",
      "Y_ss = 1.0000\n",
      "K_ss/Y_ss = 4.0000\n",
      "rk_ss = 0.0750\n",
      "r_ss = 0.0250\n",
      "w_ss = 0.7000\n",
      "A = 0.6598\n",
      "beta = 0.9756\n"
     ]
    }
   ],
   "source": [
    "model_scipy = RamseyModelClass()\n",
    "model_scipy.par.solver = 'scipy'\n",
    "model_scipy.find_steady_state(KY_ss=4.0)\n",
    "model_scipy.par.K_lag_ini = 0.50*model_scipy.ss.K\n",
    "model_scipy.path.A[:] = model_scipy.ss.A\n",
    "model_scipy.solve()"
   ]
  },
  {
   "cell_type": "code",
   "execution_count": 29,
   "metadata": {},
   "outputs": [
    {
     "data": {
      "image/png": "[encoded data removed]",
      "text/plain": [
       "<Figure size 432x288 with 1 Axes>"
      ]
     },
     "metadata": {},
     "output_type": "display_data"
    }
   ],
   "source": [
    "fig = plt.figure(figsize=(6,6/1.5))\n",
    "ax = fig.add_subplot(1,1,1)\n",
    "ax.plot(path.K_lag,label=r'$K_{t-1}$, broyden')\n",
    "ax.plot(model_scipy.path.K_lag,ls='--',label=r'$K_{t-1}$, scipy')\n",
    "ax.legend(frameon=True)\n",
    "fig.tight_layout()"
   ]
  },
  {
   "cell_type": "markdown",
   "metadata": {},
   "source": [
    "## Persistent technology shock"
   ]
  },
  {
   "cell_type": "markdown",
   "metadata": {},
   "source": [
    "**Shock:**"
   ]
  },
  {
   "cell_type": "code",
   "execution_count": 30,
   "metadata": {},
   "outputs": [],
   "source": [
    "par.K_lag_ini = ss.K # start from steady state\n",
    "path.A[:] = 0.95**np.arange(par.Tpath)*0.1*ss.A + ss.A # shock path"
   ]
  },
  {
   "cell_type": "markdown",
   "metadata": {},
   "source": [
    "**Terminology:** This is called an MIT-shock. Households do not expect shocks. Know the full path of the shock when it arrives. Continue to believe no future shocks will happen."
   ]
  },
  {
   "cell_type": "markdown",
   "metadata": {},
   "source": [
    "**Solve:**"
   ]
  },
  {
   "cell_type": "code",
   "execution_count": 31,
   "metadata": {},
   "outputs": [
    {
     "name": "stdout",
     "output_type": "stream",
     "text": [
      " it =   0 -> max. abs. error =   0.10000000\n",
      " it =   1 -> max. abs. error =   0.00103640\n",
      " it =   2 -> max. abs. error =   0.00005914\n",
      " it =   3 -> max. abs. error =   0.00000274\n",
      " it =   4 -> max. abs. error =   0.00000055\n",
      " it =   5 -> max. abs. error =   0.00000008\n",
      " it =   6 -> max. abs. error =   0.00000000\n"
     ]
    }
   ],
   "source": [
    "model.solve()"
   ]
  },
  {
   "cell_type": "code",
   "execution_count": 32,
   "metadata": {},
   "outputs": [
    {
     "data": {
      "image/png": "[encoded data removed]",
      "text/plain": [
       "<Figure size 864x288 with 2 Axes>"
      ]
     },
     "metadata": {},
     "output_type": "display_data"
    }
   ],
   "source": [
    "fig = plt.figure(figsize=(2*6,6/1.5))\n",
    "\n",
    "ax = fig.add_subplot(1,2,1)\n",
    "ax.set_title('Capital, $K_{t-1}$')\n",
    "ax.plot(path.K_lag)\n",
    "\n",
    "ax = fig.add_subplot(1,2,2)\n",
    "ax.plot(path.A)\n",
    "ax.set_title('Technology, $A_t$')\n",
    "\n",
    "fig.tight_layout()"
   ]
  },
  {
   "cell_type": "markdown",
   "metadata": {},
   "source": [
    "**Question:** Could a much more persistent shock be problematic?"
   ]
  },
  {
   "cell_type": "markdown",
   "metadata": {},
   "source": [
    "## Future persistent technology shock"
   ]
  },
  {
   "cell_type": "markdown",
   "metadata": {},
   "source": [
    "**Shock happing after period $H$:**"
   ]
  },
  {
   "cell_type": "code",
   "execution_count": 53,
   "metadata": {},
   "outputs": [],
   "source": [
    "par.K_lag_ini = ss.K # start from steady state\n",
    "\n",
    "# shock\n",
    "H = 50\n",
    "path.A[:] = ss.A\n",
    "path.A[H:] = 0.95**np.arange(par.Tpath-H)*0.1*ss.A + ss.A"
   ]
  },
  {
   "cell_type": "markdown",
   "metadata": {},
   "source": [
    "**Solve:**"
   ]
  },
  {
   "cell_type": "code",
   "execution_count": 54,
   "metadata": {},
   "outputs": [
    {
     "name": "stdout",
     "output_type": "stream",
     "text": [
      " it =   0 -> max. abs. error =   0.10000000\n",
      " it =   1 -> max. abs. error =   0.00267237\n",
      " it =   2 -> max. abs. error =   0.00015130\n",
      " it =   3 -> max. abs. error =   0.00000241\n",
      " it =   4 -> max. abs. error =   0.00000025\n",
      " it =   5 -> max. abs. error =   0.00000002\n",
      " it =   6 -> max. abs. error =   0.00000000\n"
     ]
    }
   ],
   "source": [
    "model.solve()"
   ]
  },
  {
   "cell_type": "code",
   "execution_count": 55,
   "metadata": {},
   "outputs": [
    {
     "data": {
      "image/png": "[encoded data removed]",
      "text/plain": [
       "<Figure size 864x288 with 2 Axes>"
      ]
     },
     "metadata": {},
     "output_type": "display_data"
    }
   ],
   "source": [
    "fig = plt.figure(figsize=(2*6,6/1.5))\n",
    "\n",
    "ax = fig.add_subplot(1,2,1)\n",
    "ax.set_title('Capital, $K_{t-1}$')\n",
    "ax.plot(path.K_lag)\n",
    "\n",
    "ax = fig.add_subplot(1,2,2)\n",
    "ax.plot(path.A)\n",
    "ax.set_title('Technology, $A_t$')\n",
    "\n",
    "fig.tight_layout()"
   ]
  },
  {
   "cell_type": "code",
   "execution_count": 57,
   "metadata": {},
   "outputs": [
    {
     "name": "stdout",
     "output_type": "stream",
     "text": [
      " it =   0 -> max. abs. error =   0.05301739\n",
      " it =   1 -> max. abs. error =   0.00001569\n",
      " it =   2 -> max. abs. error =   0.00000010\n",
      " it =   3 -> max. abs. error =   0.00000000\n"
     ]
    }
   ],
   "source": [
    "par.K_lag_ini = path.K[30]\n",
    "path.A[:] = ss.A\n",
    "model.solve()"
   ]
  },
  {
   "cell_type": "markdown",
   "metadata": {},
   "source": [
    "**Take-away:** Households are forward looking and responds before the shock hits."
   ]
  },
  {
   "cell_type": "markdown",
   "metadata": {},
   "source": [
    "## Getting an overview"
   ]
  },
  {
   "cell_type": "markdown",
   "metadata": {},
   "source": [
    "1. Spend 3 minutes looking at `RamseyModel.py`\n",
    "2. Write one question at [https://b.socrative.com/login/student/](https://b.socrative.com/login/student/) with `ROOM=NUMECON`"
   ]
  },
  {
   "cell_type": "markdown",
   "metadata": {},
   "source": [
    "## Potential analysis and extension"
   ]
  },
  {
   "cell_type": "markdown",
   "metadata": {},
   "source": [
    "**Potential analysis:**\n",
    "\n",
    "1. Different shocks (e.g. discount factor)\n",
    "2. Multiple shocks\n",
    "3. Permanent shocks ($\\rightarrow$ convergence to new steady state)\n",
    "4. Transition speed"
   ]
  },
  {
   "cell_type": "markdown",
   "metadata": {},
   "source": [
    "**Extensions:**\n",
    "\n",
    "1. Add a government and taxation\n",
    "2. Endogenous labor supply\n",
    "3. Additional assets (e.g. housing)\n",
    "4. Add nominal rigidities (New Keynesian)"
   ]
  },
  {
   "cell_type": "markdown",
   "metadata": {},
   "source": [
    "# Further perspectives"
   ]
  },
  {
   "cell_type": "markdown",
   "metadata": {},
   "source": [
    "**The next steps beyond this course:** \n",
    "\n",
    "1. The **Bewley-Huggett-Aiyagari** model. A multi-period OLG model or Ramsey model with households making decisions *under uncertainty and borrowing constraints* as in lecture 11 under \"dynamic optimization\". Such heterogenous agent models are used in state-of-the-art research, see [Quantitative Macroeconomics with Heterogeneous Households](https://www.annualreviews.org/doi/abs/10.1146/annurev.economics.050708.142922). \n",
    "\n",
    "2. Further adding nominal rigidities this is called a **Heterogenous Agent New Keynesian (HANK)** model. See [Macroeconomics with HANK models](https://drive.google.com/file/d/16Qq7NJ_AZh5NmjPFSrLI42mfT7EsCUeH/view).\n",
    "\n",
    "3. This extends the **Representative Agent New Keynesian (RANK)** model, which itself is a Ramsey model extended with nominal rigidities. \n",
    "\n",
    "4. The final frontier is including **aggregate risk**, which either requires linearization or using a **Krussell-Smith method**. Solving the model in *sequence-space* as we did with the Ramsey model is a frontier method (see [here](https://github.com/shade-econ/sequence-jacobian/#sequence-space-jacobian)).\n",
    "\n",
    "\n",
    "\n"
   ]
  },
  {
   "cell_type": "markdown",
   "metadata": {},
   "source": [
    "**Next lecture:** Agent Based Models"
   ]
  }
 ],
 "metadata": {
  "kernelspec": {
   "display_name": "Python 3 (ipykernel)",
   "language": "python",
   "name": "python3"
  },
  "language_info": {
   "codemirror_mode": {
    "name": "ipython",
    "version": 3
   },
   "file_extension": ".py",
   "mimetype": "text/x-python",
   "name": "python",
   "nbconvert_exporter": "python",
   "pygments_lexer": "ipython3",
   "version": "3.9.12"
  },
  "toc-autonumbering": true
 },
 "nbformat": 4,
 "nbformat_minor": 4
}
