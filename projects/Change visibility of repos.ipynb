{
 "cells": [
  {
   "cell_type": "markdown",
   "id": "4a9fd3f3-ec08-43bc-8934-11d4475814c9",
   "metadata": {},
   "source": [
    "# Change visibility status of projects"
   ]
  },
  {
   "cell_type": "code",
   "execution_count": 1,
   "id": "b4a69b89-2eee-436e-857e-58966be3b7bc",
   "metadata": {},
   "outputs": [],
   "source": [
    "#!pip install PyGithub"
   ]
  },
  {
   "cell_type": "code",
   "execution_count": 1,
   "id": "f9da979b-0fb8-4bf5-bc2d-2852aa3a1385",
   "metadata": {},
   "outputs": [],
   "source": [
    "from github import Github \n",
    "import sys\n",
    "import datetime\n",
    "import pandas as pd\n",
    "import numpy as np\n",
    "import random\n",
    "from collections import Counter"
   ]
  },
  {
   "cell_type": "code",
   "execution_count": 2,
   "id": "f8416716-01c3-47c3-9b7e-3e14337638dc",
   "metadata": {},
   "outputs": [],
   "source": [
    "# Load personal access token\n",
    "with open(\"/Users/jzk870/Documents/NumericalMethods - Harddisk/token/git_access_token.txt\", mode = \"r\") as file:\n",
    "    token = file.read()\n",
    "\n",
    "year = \"2022\"    \n",
    "class_name = \"projects-\" + year"
   ]
  },
  {
   "cell_type": "markdown",
   "id": "66bda1ab-3722-4c45-8850-8367088c6453",
   "metadata": {},
   "source": [
    "### Load all repositories in this year's class room"
   ]
  },
  {
   "cell_type": "code",
   "execution_count": 3,
   "id": "cc1f2223-bbd2-4bc8-8219-8d1244d12d37",
   "metadata": {},
   "outputs": [],
   "source": [
    "# a. Access github through access token. This one has been destroyed by Github for safety reasons.\n",
    "gh = Github(token)\n",
    "org = gh.get_organization('NumEconCopenhagen')\n",
    "all_repos = org.get_repos()\n",
    "\n",
    "# b. Locate all repositories in current class\n",
    "current_class = [repo.name for repo in all_repos if class_name in repo.name]"
   ]
  },
  {
   "cell_type": "code",
   "execution_count": 4,
   "id": "d2a23061-a8c9-48fc-840d-9ec5b3af06f4",
   "metadata": {},
   "outputs": [
    {
     "name": "stdout",
     "output_type": "stream",
     "text": [
      "crashtest\n",
      "git-good\n",
      "team-1\n",
      "2h2h\n",
      "team-2\n",
      "scandies\n",
      "learning-c\n",
      "anacondainstallers\n",
      "teamhackerhannah\n",
      "gigachad-grape-valley\n",
      "team-abc\n",
      "team-4-4-2\n",
      "group-cobra\n",
      "sprit-af\n",
      "2-brown-1-white\n",
      "rasmus-markus\n",
      "team-eyu\n",
      "simon-nick\n",
      "ppap\n",
      "sadek-som-statsminister\n",
      "group-aj\n",
      "teamp-up\n",
      "studentsbreadsarerated\n",
      "fc-fredericia\n",
      "rsi-team\n",
      "team-123\n",
      "team-wmutfmu\n",
      "21\n",
      "lost_in_optimization\n",
      "cil-wil-og-sof\n",
      "msm\n",
      "my_anaconda_don-t\n",
      "slet_mig_senere\n",
      "team-team\n",
      "alberte-og-eva\n",
      "amanda-oliver\n",
      "rebekka-og-alex\n",
      "team-freelvlau\n",
      "cc_bc-_og-_bo\n",
      "amo\n",
      "lads\n",
      "team-hjn\n",
      "gustav-og-daniel\n",
      "three-horses\n",
      "mads-rasmus-kristian\n",
      "anna-thomas-oscar\n",
      "paulaemma-s\n",
      "busk\n",
      "clara-yannie\n",
      "edb-boys\n",
      "team\n",
      "sabrina-christoffer\n",
      "group-ky-nla\n",
      "marko_og_david\n",
      "dream-team\n",
      "jonathan-og-anna\n",
      "christopher-mie-og-emma\n",
      "ludvigsen\n",
      "jeppe-hersh-signe\n",
      "markus-kasper\n",
      "mmf\n",
      "anna-class-1\n",
      "ambitionzazaridah\n",
      "sophsim\n",
      "torsdag\n",
      "group-emil-dan-kasper\n",
      "vpn\n",
      "teamtea\n",
      "avp\n",
      "group_st\n",
      "guccimane1996\n",
      "madsholleufer\n",
      "cs\n",
      "team-weuh\n"
     ]
    }
   ],
   "source": [
    "# See this years' repos\n",
    "for r in current_class:\n",
    "    print(r.removeprefix(class_name+\"-\"))"
   ]
  },
  {
   "cell_type": "markdown",
   "id": "05db6b56-075a-4a5d-9425-1786215b1a0d",
   "metadata": {},
   "source": [
    "### Set visibility of all repositories"
   ]
  },
  {
   "cell_type": "code",
   "execution_count": 5,
   "id": "61c04db4-dcfb-4f14-b5dc-c470520db66b",
   "metadata": {},
   "outputs": [],
   "source": [
    "# c. Use edit command and privat property to set visibility\n",
    "is_private = True\n",
    "\n",
    "# Set privacy status\n",
    "for repo in all_repos:\n",
    "    if repo.name not in current_class:\n",
    "        continue\n",
    "        \n",
    "    # Update status    \n",
    "    repo.edit(private = is_private)"
   ]
  },
  {
   "cell_type": "code",
   "execution_count": 7,
   "id": "460676ae-b42a-4e8a-a202-0a123c5598b6",
   "metadata": {},
   "outputs": [],
   "source": [
    "#test = org.get_repo('projects-2022-crashtest')\n",
    "#test.edit(private=True)"
   ]
  },
  {
   "cell_type": "markdown",
   "id": "51eef9c4-abc7-4db1-aa03-e324dc1a9d03",
   "metadata": {},
   "source": [
    "### Check out visibility"
   ]
  },
  {
   "cell_type": "code",
   "execution_count": 6,
   "id": "97f0a3f1-9537-42ca-a15b-f6af68391469",
   "metadata": {},
   "outputs": [
    {
     "name": "stdout",
     "output_type": "stream",
     "text": [
      "private: crashtest\n",
      "private: git-good\n",
      "private: team-1\n",
      "private: 2h2h\n",
      "private: team-2\n",
      "private: scandies\n",
      "private: learning-c\n",
      "private: anacondainstallers\n",
      "private: teamhackerhannah\n",
      "private: gigachad-grape-valley\n",
      "private: team-abc\n",
      "private: team-4-4-2\n",
      "private: group-cobra\n",
      "private: sprit-af\n",
      "private: 2-brown-1-white\n",
      "private: rasmus-markus\n",
      "private: team-eyu\n",
      "private: simon-nick\n",
      "private: ppap\n",
      "private: sadek-som-statsminister\n",
      "private: group-aj\n",
      "private: teamp-up\n",
      "private: studentsbreadsarerated\n",
      "private: fc-fredericia\n",
      "private: rsi-team\n",
      "private: team-123\n",
      "private: team-wmutfmu\n",
      "private: 21\n",
      "private: lost_in_optimization\n",
      "private: cil-wil-og-sof\n",
      "private: msm\n",
      "private: my_anaconda_don-t\n",
      "private: slet_mig_senere\n",
      "private: team-team\n",
      "private: alberte-og-eva\n",
      "private: amanda-oliver\n",
      "private: rebekka-og-alex\n",
      "private: team-freelvlau\n",
      "private: cc_bc-_og-_bo\n",
      "private: amo\n",
      "private: lads\n",
      "private: team-hjn\n",
      "private: gustav-og-daniel\n",
      "private: three-horses\n",
      "private: mads-rasmus-kristian\n",
      "private: anna-thomas-oscar\n",
      "private: paulaemma-s\n",
      "private: busk\n",
      "private: clara-yannie\n",
      "private: edb-boys\n",
      "private: team\n",
      "private: sabrina-christoffer\n",
      "private: group-ky-nla\n",
      "private: marko_og_david\n",
      "private: dream-team\n",
      "private: jonathan-og-anna\n",
      "private: christopher-mie-og-emma\n",
      "private: ludvigsen\n",
      "private: jeppe-hersh-signe\n",
      "private: markus-kasper\n",
      "private: mmf\n",
      "private: anna-class-1\n",
      "private: ambitionzazaridah\n",
      "private: sophsim\n",
      "private: torsdag\n",
      "private: group-emil-dan-kasper\n",
      "private: vpn\n",
      "private: teamtea\n",
      "private: avp\n",
      "private: group_st\n",
      "private: guccimane1996\n",
      "private: madsholleufer\n",
      "private: cs\n",
      "private: team-weuh\n"
     ]
    }
   ],
   "source": [
    "# d. Detect status of all repositories\n",
    "for repo in all_repos:\n",
    "    if repo.name not in current_class:\n",
    "        continue\n",
    "        \n",
    "    if repo.private:\n",
    "        s = \"private\"\n",
    "    else: \n",
    "        s = \"public \"\n",
    "    \n",
    "    print(s + \": \" + repo.name.removeprefix(class_name+\"-\"))"
   ]
  }
 ],
 "metadata": {
  "kernelspec": {
   "display_name": "Python 3 (ipykernel)",
   "language": "python",
   "name": "python3"
  },
  "language_info": {
   "codemirror_mode": {
    "name": "ipython",
    "version": 3
   },
   "file_extension": ".py",
   "mimetype": "text/x-python",
   "name": "python",
   "nbconvert_exporter": "python",
   "pygments_lexer": "ipython3",
   "version": "3.9.7"
  }
 },
 "nbformat": 4,
 "nbformat_minor": 5
}
