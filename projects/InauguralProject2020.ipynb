{
 "cells": [
  {
   "cell_type": "markdown",
   "metadata": {},
   "source": [
    "# Inaugural project"
   ]
  },
  {
   "cell_type": "code",
   "execution_count": 1,
   "metadata": {},
   "outputs": [],
   "source": [
    "import numpy as np\n",
    "from scipy import optimize\n",
    "\n",
    "import matplotlib.pyplot as plt\n",
    "plt.style.use('seaborn-whitegrid')"
   ]
  },
  {
   "cell_type": "markdown",
   "metadata": {},
   "source": [
    "# Functions"
   ]
  },
  {
   "cell_type": "markdown",
   "metadata": {},
   "source": [
    "Define **the basic functions**:"
   ]
  },
  {
   "cell_type": "code",
   "execution_count": 2,
   "metadata": {},
   "outputs": [],
   "source": [
    "def implied_tax(l,w,tau0,tau1,kappa):\n",
    "    \"\"\" calculate implied tax of labor supply choice\n",
    "    \n",
    "    Args:\n",
    "    \n",
    "        l (float): labor supply\n",
    "        w (float): wage\n",
    "        tau0 (float): standard labor tax\n",
    "        tau1 (float): top bracket labor income tax\n",
    "        kappa (float): cut-off for the top labor income bracket\n",
    "        \n",
    "    Returns:\n",
    "    \n",
    "        (float): total tax bill\n",
    "    \n",
    "    \"\"\"\n",
    "    \n",
    "    return tau0*w*l + tau1*np.fmax(w*l-kappa,0)\n",
    "\n",
    "def implied_c(l,m,w,tau0,tau1,kappa):\n",
    "    \"\"\" calculate implied optimal consumption of labor supply choice\n",
    "    \n",
    "    Args:\n",
    "    \n",
    "        l (float): labor supply\n",
    "        m (float): cash-on-hand\n",
    "        w (float): wage\n",
    "        tau0 (float): standard labor tax\n",
    "        tau1 (float): top bracket labor income tax\n",
    "        kappa (float): cut-off for the top labor income bracket\n",
    "        \n",
    "    Returns:\n",
    "    \n",
    "        (float): consumption\n",
    "    \n",
    "    \"\"\"\n",
    "    \n",
    "    return m + w*l - implied_tax(l,w,tau0,tau1,kappa)\n",
    "\n",
    "def utility(c,l,nu,frisch):\n",
    "    \"\"\" utility of consumption and labor supply decision\n",
    "    \n",
    "    Args:\n",
    "    \n",
    "        c (float): consumption\n",
    "        l (float): labor supply\n",
    "        nu (float): disutility of labor supply\n",
    "        frisch (float): frisch elasticity of labor supply\n",
    "        \n",
    "    Returns:\n",
    "    \n",
    "        (float): utility\n",
    "    \n",
    "    \"\"\"\n",
    "    \n",
    "    return np.log(c) - nu*l**(1+1/frisch)/(1+1/frisch)"
   ]
  },
  {
   "cell_type": "markdown",
   "metadata": {},
   "source": [
    "Define the **value-of-choice function**:"
   ]
  },
  {
   "cell_type": "code",
   "execution_count": 3,
   "metadata": {},
   "outputs": [],
   "source": [
    "def value_of_choice(l,nu,frisch,m,w,tau0,tau1,kappa):\n",
    "    \"\"\" calculate implied utlity of consumption and labor supply choice\n",
    "    \n",
    "    Args:\n",
    "    \n",
    "        l (float): labor supply\n",
    "        nu (float): disutility of labor supply\n",
    "        frisch (float): frisch elasticity of labor supply        \n",
    "        m (float): cash-on-hand\n",
    "        w (float): wage\n",
    "        tau0 (float): standard labor tax\n",
    "        tau1 (float): top bracket labor income tax\n",
    "        kappa (float): cut-off for the top labor income bracket\n",
    "        \n",
    "    Returns:\n",
    "    \n",
    "        (float): utility\n",
    "        \n",
    "    \"\"\"\n",
    "    \n",
    "    c = implied_c(l,m,w,tau0,tau1,kappa)\n",
    "    return utility(c,l,nu,frisch)"
   ]
  },
  {
   "cell_type": "markdown",
   "metadata": {},
   "source": [
    "Define **optimal solution function:**"
   ]
  },
  {
   "cell_type": "code",
   "execution_count": 4,
   "metadata": {},
   "outputs": [],
   "source": [
    "def find_optimal_labor_supply(nu,frisch,m,w,tau0,tau1,kappa):\n",
    "    \"\"\" find optimal labor supply choice\n",
    "    \n",
    "    Args:\n",
    "    \n",
    "        nu (float): disutility of labor supply\n",
    "        frisch (float): frisch elasticity of labor supply        \n",
    "        m (float): cash-on-hand\n",
    "        w (float): wage\n",
    "        tau0 (float): standard labor tax\n",
    "        tau1 (float): top bracket labor income tax\n",
    "        kappa (float): cut-off for the top labor income bracket\n",
    "        \n",
    "    Returns:\n",
    "    \n",
    "        (float): utility\n",
    "        \n",
    "    \"\"\"\n",
    "    \n",
    "    \n",
    "    obj = lambda l: -value_of_choice(l,nu,frisch,m,w,tau0,tau1,kappa)\n",
    "    res = optimize.minimize_scalar(obj,bounds=(1e-8,1),method='bounded')\n",
    "    return res.x"
   ]
  },
  {
   "cell_type": "markdown",
   "metadata": {},
   "source": [
    "# Question 1+2"
   ]
  },
  {
   "cell_type": "markdown",
   "metadata": {},
   "source": [
    "Define all **parameters**:"
   ]
  },
  {
   "cell_type": "code",
   "execution_count": 5,
   "metadata": {},
   "outputs": [],
   "source": [
    "m = 1\n",
    "nu = 10\n",
    "frisch = 0.3\n",
    "tau0 = 0.4\n",
    "tau1 = 0.1\n",
    "kappa = 0.4"
   ]
  },
  {
   "cell_type": "markdown",
   "metadata": {},
   "source": [
    "**Allocate** arrays for solutions:"
   ]
  },
  {
   "cell_type": "code",
   "execution_count": 6,
   "metadata": {},
   "outputs": [],
   "source": [
    "K = 10_000\n",
    "w_vec = np.linspace(0.5,1.5,K)\n",
    "l_vec = np.zeros(K)\n",
    "c_vec = np.zeros(K)"
   ]
  },
  {
   "cell_type": "markdown",
   "metadata": {},
   "source": [
    "**Solve:**"
   ]
  },
  {
   "cell_type": "code",
   "execution_count": 7,
   "metadata": {},
   "outputs": [],
   "source": [
    "for i in range(K):\n",
    "    l_vec[i] = find_optimal_labor_supply(nu,frisch,m,w_vec[i],tau0,tau1,kappa)\n",
    "    c_vec[i] = implied_c(l_vec[i],m,w_vec[i],tau0,tau1,kappa)"
   ]
  },
  {
   "cell_type": "markdown",
   "metadata": {},
   "source": [
    "**Plot results:**"
   ]
  },
  {
   "cell_type": "code",
   "execution_count": 8,
   "metadata": {},
   "outputs": [
    {
     "data": {
      "image/png": "[encoded data removed]",
      "text/plain": [
       "<Figure size 864x288 with 2 Axes>"
      ]
     },
     "metadata": {},
     "output_type": "display_data"
    }
   ],
   "source": [
    "fig = plt.figure(figsize=(12,4))\n",
    "\n",
    "ax = fig.add_subplot(1,2,1)\n",
    "ax.plot(w_vec,l_vec,'-')\n",
    "ax.set_ylabel('labor supply, $\\ell$')\n",
    "ax.set_xlabel('wage, $w$')\n",
    "ax.set_title('Labor suppply')\n",
    "\n",
    "ax = fig.add_subplot(1,2,2)\n",
    "ax.plot(w_vec,c_vec,'-')\n",
    "ax.set_ylabel('consumption, $c$')\n",
    "ax.set_xlabel('consumption, $c$')\n",
    "ax.set_title('Consumption');"
   ]
  },
  {
   "cell_type": "markdown",
   "metadata": {},
   "source": [
    "# Question 3"
   ]
  },
  {
   "cell_type": "markdown",
   "metadata": {},
   "source": [
    "Calculate **tax revnue** using that a equally spaced vector approximates a uniform distribution: "
   ]
  },
  {
   "cell_type": "code",
   "execution_count": 9,
   "metadata": {},
   "outputs": [
    {
     "name": "stdout",
     "output_type": "stream",
     "text": [
      "total tax revenue is: 1630.1869\n"
     ]
    }
   ],
   "source": [
    "T = np.sum(implied_tax(l_vec,w_vec,tau0,tau1,kappa))\n",
    "print(f'total tax revenue is: {T:.4f}')"
   ]
  },
  {
   "cell_type": "markdown",
   "metadata": {},
   "source": [
    "Using **random sampling** is also a possibility:"
   ]
  },
  {
   "cell_type": "code",
   "execution_count": 10,
   "metadata": {},
   "outputs": [
    {
     "name": "stdout",
     "output_type": "stream",
     "text": [
      " 0: 1628.8947\n",
      " 1: 1625.2816\n",
      " 2: 1630.2167\n",
      " 3: 1630.4352\n",
      " 4: 1627.1104\n",
      " 5: 1628.4940\n",
      " 6: 1624.8947\n",
      " 7: 1636.2236\n",
      " 8: 1628.5268\n",
      " 9: 1632.8915\n",
      "10: 1626.8658\n",
      "20: 1631.2981\n",
      "30: 1621.4283\n",
      "40: 1626.9675\n",
      "mean: 1629.1761 [1617.3815 1637.7069]\n"
     ]
    }
   ],
   "source": [
    "# a. set seed\n",
    "np.random.seed(1917)\n",
    "\n",
    "# b. run replications\n",
    "reps = 50\n",
    "T_vec = np.zeros(reps)\n",
    "for rep in range(reps):\n",
    "    \n",
    "    # i. draw randow wages\n",
    "    w_vec_ = np.random.uniform(0.5,1.5,size=K)\n",
    "    \n",
    "    # ii. find labor supply\n",
    "    l_vec_ = np.zeros(K)\n",
    "    for i in range(K):\n",
    "        l_vec_[i] = find_optimal_labor_supply(nu,frisch,m,w_vec_[i],tau0,tau1,kappa)\n",
    "\n",
    "    # iii. find tax revenue\n",
    "    T_vec[rep] = np.sum(implied_tax(l_vec_,w_vec_,tau0,tau1,kappa))\n",
    "    \n",
    "    if rep < 10 or rep%10 == 0:\n",
    "        print(f'{rep:2d}: {T_vec[rep]:.4f}')\n",
    "\n",
    "# c. mean\n",
    "print(f'mean: {np.mean(T_vec):.4f} [{np.min(T_vec):.4f} {np.max(T_vec):.4f}]')"
   ]
  },
  {
   "cell_type": "markdown",
   "metadata": {},
   "source": [
    "# Question 4"
   ]
  },
  {
   "cell_type": "markdown",
   "metadata": {},
   "source": [
    "**Re-solve** with $\\epsilon = 0.1$:"
   ]
  },
  {
   "cell_type": "code",
   "execution_count": 11,
   "metadata": {},
   "outputs": [],
   "source": [
    "frisch_low = 0.1\n",
    "l_vec_frisch_low = np.zeros(K)\n",
    "for i in range(K):\n",
    "    l_vec_frisch_low[i] = find_optimal_labor_supply(nu,frisch_low,m,w_vec[i],tau0,tau1,kappa)"
   ]
  },
  {
   "cell_type": "markdown",
   "metadata": {},
   "source": [
    "Re-calculate **tax revenue**:"
   ]
  },
  {
   "cell_type": "code",
   "execution_count": 12,
   "metadata": {},
   "outputs": [
    {
     "name": "stdout",
     "output_type": "stream",
     "text": [
      "total tax revenue is: 3196.8810\n"
     ]
    }
   ],
   "source": [
    "T_frisch_low = np.sum(implied_tax(l_vec_frisch_low,w_vec,tau0,tau1,kappa))\n",
    "print(f'total tax revenue is: {T_frisch_low:.4f}')"
   ]
  },
  {
   "cell_type": "markdown",
   "metadata": {},
   "source": [
    "# Question 5"
   ]
  },
  {
   "cell_type": "markdown",
   "metadata": {},
   "source": [
    "Define function to calculate **tax revenue for guess of tax parameters**:"
   ]
  },
  {
   "cell_type": "code",
   "execution_count": 13,
   "metadata": {},
   "outputs": [],
   "source": [
    "def tax_revenue(nu,frisch,m,w_vec,tau0,tau1,kappa):\n",
    "    \"\"\" find total tax revenue \n",
    "    \n",
    "    Args:\n",
    "    \n",
    "        nu (float): disutility of labor supply\n",
    "        frisch (float): frisch elasticity of labor supply        \n",
    "        m (float): cash-on-hand\n",
    "        w (np.array): wage\n",
    "        tau0 (float): standard labor tax\n",
    "        tau1 (float): top bracket labor income tax\n",
    "        kappa (float): cut-off for the top labor income bracket\n",
    "        \n",
    "    Returns:\n",
    "    \n",
    "        (float): total tax revenue\n",
    "        \n",
    "    \"\"\"\n",
    "    \n",
    "    # a. optimal labor supply\n",
    "    l_vec = np.zeros(K)\n",
    "    for i in range(K):\n",
    "        l_vec[i] = find_optimal_labor_supply(nu,frisch,m,w_vec[i],tau0,tau1,kappa)\n",
    "        \n",
    "    # b. taxes\n",
    "    T = np.sum(implied_tax(l_vec,w_vec,tau0,tau1,kappa))    \n",
    "    \n",
    "    return T"
   ]
  },
  {
   "cell_type": "markdown",
   "metadata": {},
   "source": [
    "Define **objective function for optimizer**:"
   ]
  },
  {
   "cell_type": "code",
   "execution_count": 14,
   "metadata": {},
   "outputs": [],
   "source": [
    "def obj(x,nu,frisch_low,m,w_vec,tau0,tau1,kappa):\n",
    "    \"\"\" find negative of total tax revenue \n",
    "    \n",
    "    Args:\n",
    "        \n",
    "        x (np.array): tax parameters\n",
    "        nu (float): disutility of labor supply\n",
    "        frisch (float): frisch elasticity of labor supply        \n",
    "        m (float): cash-on-hand\n",
    "        w_vec (np.array): wage\n",
    "        \n",
    "    Returns:\n",
    "    \n",
    "        (float): minus total tax revenue\n",
    "        \n",
    "    \"\"\"\n",
    "    \n",
    "    global it\n",
    "    \n",
    "    tau0 = x[0]\n",
    "    \n",
    "    if x.size > 1:\n",
    "        tau1 = x[1]\n",
    "        kappa = x[2]\n",
    "       \n",
    "    T = tax_revenue(nu,frisch_low,m,w_vec,tau0,tau1,kappa)\n",
    "    \n",
    "    if x.size > 1:\n",
    "        print(f'{it:3d}: tau0 = {x[0]:.8f}, tau1 = {x[1]:.8f}, kappa = {x[2]:.8f} -> T = {T:.8f}')\n",
    "    else:\n",
    "        print(f'{it:3d}: tau0 = {x[0]:.8f} -> T = {T:.8f}')\n",
    "        \n",
    "    it += 1\n",
    "    \n",
    "    return -T"
   ]
  },
  {
   "cell_type": "markdown",
   "metadata": {},
   "source": [
    "**Solve:**"
   ]
  },
  {
   "cell_type": "code",
   "execution_count": 15,
   "metadata": {},
   "outputs": [
    {
     "name": "stdout",
     "output_type": "stream",
     "text": [
      "  0: tau0 = 0.40000000, tau1 = 0.10000000, kappa = 0.40000000 -> T = 1630.18687347\n",
      "  1: tau0 = 0.40000001, tau1 = 0.10000000, kappa = 0.40000000 -> T = 1630.18692038\n",
      "  2: tau0 = 0.40000000, tau1 = 0.10000001, kappa = 0.40000000 -> T = 1630.18686864\n",
      "  3: tau0 = 0.40000000, tau1 = 0.10000000, kappa = 0.40000001 -> T = 1630.18686667\n",
      "  4: tau0 = 0.99999727, tau1 = 0.00000028, kappa = 0.00000039 -> T = 105.59773729\n",
      "  5: tau0 = 0.57395042, tau1 = 0.07100821, kappa = 0.28403264 -> T = 2139.45484669\n",
      "  6: tau0 = 0.57395044, tau1 = 0.07100821, kappa = 0.28403264 -> T = 2139.45487563\n",
      "  7: tau0 = 0.57395042, tau1 = 0.07100823, kappa = 0.28403264 -> T = 2139.45483631\n",
      "  8: tau0 = 0.57395042, tau1 = 0.07100821, kappa = 0.28403265 -> T = 2139.45483654\n",
      "  9: tau0 = 0.87976265, tau1 = 0.00000351, kappa = 0.00000478 -> T = 2348.76277475\n",
      " 10: tau0 = 0.87976267, tau1 = 0.00000351, kappa = 0.00000478 -> T = 2348.76273113\n",
      " 11: tau0 = 0.87976265, tau1 = 0.00000352, kappa = 0.00000478 -> T = 2348.76273113\n",
      " 12: tau0 = 0.87976265, tau1 = 0.00000351, kappa = 0.00000479 -> T = 2348.76277475\n",
      " 13: tau0 = 0.69162943, tau1 = 0.00000246, kappa = 0.00000131 -> T = 2393.01707600\n",
      " 14: tau0 = 0.77747693, tau1 = 0.00000294, kappa = 0.00000289 -> T = 2466.22865453\n",
      " 15: tau0 = 0.77747694, tau1 = 0.00000294, kappa = 0.00000289 -> T = 2466.22865687\n",
      " 16: tau0 = 0.77747693, tau1 = 0.00000295, kappa = 0.00000289 -> T = 2466.22865687\n",
      " 17: tau0 = 0.77747693, tau1 = 0.00000294, kappa = 0.00000290 -> T = 2466.22865452\n",
      " 18: tau0 = 0.78270184, tau1 = 0.00000000, kappa = 0.00000000 -> T = 2466.78460213\n",
      " 19: tau0 = 0.78270185, tau1 = 0.00000000, kappa = 0.00000000 -> T = 2466.78460295\n",
      " 20: tau0 = 0.78270184, tau1 = 0.00000001, kappa = 0.00000000 -> T = 2466.78460295\n",
      " 21: tau0 = 0.78270184, tau1 = 0.00000000, kappa = 0.00000001 -> T = 2466.78460213\n",
      " 22: tau0 = 0.76419263, tau1 = 0.02132263, kappa = 0.02431868 -> T = 2461.32557928\n",
      " 23: tau0 = 0.78085092, tau1 = 0.00213226, kappa = 0.00243187 -> T = 2466.74396897\n",
      " 24: tau0 = 0.78244667, tau1 = 0.00029395, kappa = 0.00033525 -> T = 2466.78567306\n",
      " 25: tau0 = 0.78244669, tau1 = 0.00029395, kappa = 0.00033525 -> T = 2466.78567388\n",
      " 26: tau0 = 0.78244667, tau1 = 0.00029397, kappa = 0.00033525 -> T = 2466.78567382\n",
      " 27: tau0 = 0.78244667, tau1 = 0.00029395, kappa = 0.00033527 -> T = 2466.78567302\n",
      " 28: tau0 = 1.00000000, tau1 = 0.00000000, kappa = 0.00000000 -> T = 0.96121280\n",
      " 29: tau0 = 0.80420200, tau1 = 0.00026456, kappa = 0.00030173 -> T = 2463.01629985\n",
      " 30: tau0 = 0.78504755, tau1 = 0.00029044, kappa = 0.00033125 -> T = 2466.85920598\n",
      " 31: tau0 = 0.78504757, tau1 = 0.00029044, kappa = 0.00033125 -> T = 2466.85920601\n",
      " 32: tau0 = 0.78504755, tau1 = 0.00029045, kappa = 0.00033125 -> T = 2466.85920596\n",
      " 33: tau0 = 0.78504755, tau1 = 0.00029044, kappa = 0.00033126 -> T = 2466.85920593\n",
      " 34: tau0 = 0.78543536, tau1 = 0.00000000, kappa = 0.00000000 -> T = 2466.86034689\n",
      " 35: tau0 = 0.78543537, tau1 = 0.00000000, kappa = 0.00000000 -> T = 2466.86034689\n",
      " 36: tau0 = 0.78543536, tau1 = 0.00000001, kappa = 0.00000000 -> T = 2466.86034689\n",
      " 37: tau0 = 0.78543536, tau1 = 0.00000000, kappa = 0.00000001 -> T = 2466.86034689\n"
     ]
    }
   ],
   "source": [
    "# a. initial guess and bounds\n",
    "x0 = np.array([tau0,tau1,kappa])\n",
    "bounds = ((0,1),(0,1),(0,1.5))\n",
    "\n",
    "# b. call solver\n",
    "it = 0\n",
    "result = optimize.minimize(obj, x0, method='SLSQP',bounds=bounds, args=(nu,frisch,m,w_vec,tau0,tau1,kappa))"
   ]
  },
  {
   "cell_type": "markdown",
   "metadata": {},
   "source": [
    "**Show result:**"
   ]
  },
  {
   "cell_type": "code",
   "execution_count": 16,
   "metadata": {},
   "outputs": [
    {
     "name": "stdout",
     "output_type": "stream",
     "text": [
      "Optimal tau0 is 0.7854, tau1 is 0.0000 and kappa is 0.0000\n",
      "We expect the total tax revenue is 2466.8603\n"
     ]
    }
   ],
   "source": [
    "# a. unpack\n",
    "tau0_best = result.x[0]\n",
    "tau1_best = result.x[1]\n",
    "kappa_best = result.x[2]\n",
    "T_best = -result.fun\n",
    "\n",
    "# b. print\n",
    "print(f'Optimal tau0 is {tau0_best:.4f}, tau1 is {tau1_best:.4f} and kappa is {kappa_best:.4f}')\n",
    "print(f'We expect the total tax revenue is {T_best:.4f}')"
   ]
  },
  {
   "cell_type": "markdown",
   "metadata": {},
   "source": [
    "**Problem:** We are not sure that a global maximum has been found.\n",
    "\n",
    "**Solution:** Lets try another initial guess."
   ]
  },
  {
   "cell_type": "code",
   "execution_count": 17,
   "metadata": {},
   "outputs": [
    {
     "name": "stdout",
     "output_type": "stream",
     "text": [
      "  0: tau0 = 0.10000000, tau1 = 0.10000000, kappa = 0.10000000 -> T = 762.79534721\n",
      "  1: tau0 = 0.10000001, tau1 = 0.10000000, kappa = 0.10000000 -> T = 762.79540824\n",
      "  2: tau0 = 0.10000000, tau1 = 0.10000001, kappa = 0.10000000 -> T = 762.79539308\n",
      "  3: tau0 = 0.10000000, tau1 = 0.10000000, kappa = 0.10000001 -> T = 762.79533205\n",
      "  4: tau0 = 0.99996387, tau1 = 0.99997286, kappa = 0.00000897 -> T = 0.07379594\n",
      "  5: tau0 = 0.50310116, tau1 = 0.50310519, kappa = 0.05521320 -> T = 277.80041385\n",
      "  6: tau0 = 0.27298905, tau1 = 0.27299077, kappa = 0.08077995 -> T = 1849.90127151\n",
      "  7: tau0 = 0.27298906, tau1 = 0.27299077, kappa = 0.08077995 -> T = 1849.90131161\n",
      "  8: tau0 = 0.27298905, tau1 = 0.27299079, kappa = 0.08077995 -> T = 1849.90129898\n",
      "  9: tau0 = 0.27298905, tau1 = 0.27299077, kappa = 0.08077996 -> T = 1849.90122884\n",
      " 10: tau0 = 1.00000000, tau1 = 0.07582131, kappa = 0.00000000 -> T = 0.05585514\n",
      " 11: tau0 = 0.45346233, tau1 = 0.22404540, kappa = 0.06072712 -> T = 2227.16649430\n",
      " 12: tau0 = 0.45346235, tau1 = 0.22404540, kappa = 0.06072712 -> T = 2227.16651805\n",
      " 13: tau0 = 0.45346233, tau1 = 0.22404542, kappa = 0.06072712 -> T = 2227.16650845\n",
      " 14: tau0 = 0.45346233, tau1 = 0.22404540, kappa = 0.06072714 -> T = 2227.16645890\n",
      " 15: tau0 = 0.82623744, tau1 = 0.00000038, kappa = 0.00000000 -> T = 2448.15614031\n",
      " 16: tau0 = 0.82623745, tau1 = 0.00000038, kappa = 0.00000000 -> T = 2448.15612589\n",
      " 17: tau0 = 0.82623744, tau1 = 0.00000040, kappa = 0.00000000 -> T = 2448.15612589\n",
      " 18: tau0 = 0.82623744, tau1 = 0.00000038, kappa = 0.00000001 -> T = 2448.15614031\n",
      " 19: tau0 = 0.72754218, tau1 = 0.00000000, kappa = 0.00000000 -> T = 2436.79435282\n",
      " 20: tau0 = 0.78213624, tau1 = 0.00000021, kappa = 0.00000000 -> T = 2466.75027243\n",
      " 21: tau0 = 0.78213626, tau1 = 0.00000021, kappa = 0.00000000 -> T = 2466.75027342\n",
      " 22: tau0 = 0.78213624, tau1 = 0.00000023, kappa = 0.00000000 -> T = 2466.75027342\n",
      " 23: tau0 = 0.78213624, tau1 = 0.00000021, kappa = 0.00000001 -> T = 2466.75027243\n",
      " 24: tau0 = 0.78394579, tau1 = 0.00102883, kappa = 0.00000000 -> T = 2466.85812312\n",
      " 25: tau0 = 0.78394580, tau1 = 0.00102883, kappa = 0.00000000 -> T = 2466.85812326\n",
      " 26: tau0 = 0.78394579, tau1 = 0.00102884, kappa = 0.00000000 -> T = 2466.85812326\n",
      " 27: tau0 = 0.78394579, tau1 = 0.00102883, kappa = 0.00000001 -> T = 2466.85812295\n",
      " 28: tau0 = 0.78127312, tau1 = 0.00417625, kappa = 0.00000000 -> T = 2466.86034369\n",
      " 29: tau0 = 0.78127314, tau1 = 0.00417625, kappa = 0.00000000 -> T = 2466.86034369\n",
      " 30: tau0 = 0.78127312, tau1 = 0.00417626, kappa = 0.00000000 -> T = 2466.86034369\n",
      " 31: tau0 = 0.78127312, tau1 = 0.00417625, kappa = 0.00000001 -> T = 2466.86034303\n",
      " 32: tau0 = 0.78326503, tau1 = 0.00218849, kappa = 0.00000000 -> T = 2466.86034497\n",
      " 33: tau0 = 0.78326504, tau1 = 0.00218849, kappa = 0.00000000 -> T = 2466.86034497\n",
      " 34: tau0 = 0.78326503, tau1 = 0.00218850, kappa = 0.00000000 -> T = 2466.86034497\n",
      " 35: tau0 = 0.78326503, tau1 = 0.00218849, kappa = 0.00000001 -> T = 2466.86034463\n",
      " 36: tau0 = 0.78545260, tau1 = 0.00000024, kappa = 0.00000000 -> T = 2466.86034741\n",
      " 37: tau0 = 0.78545261, tau1 = 0.00000024, kappa = 0.00000000 -> T = 2466.86034741\n",
      " 38: tau0 = 0.78545260, tau1 = 0.00000026, kappa = 0.00000000 -> T = 2466.86034741\n",
      " 39: tau0 = 0.78545260, tau1 = 0.00000024, kappa = 0.00000001 -> T = 2466.86034741\n",
      " 40: tau0 = 0.77641940, tau1 = 0.00000000, kappa = 0.01049805 -> T = 2466.05114938\n",
      " 41: tau0 = 0.78454928, tau1 = 0.00000022, kappa = 0.00104980 -> T = 2466.85226359\n",
      " 42: tau0 = 0.78536227, tau1 = 0.00000024, kappa = 0.00010498 -> T = 2466.86027949\n",
      " 43: tau0 = 0.78544356, tau1 = 0.00000024, kappa = 0.00001050 -> T = 2466.86034466\n",
      " 44: tau0 = 0.78545169, tau1 = 0.00000024, kappa = 0.00000105 -> T = 2466.86034495\n",
      " 45: tau0 = 0.78545251, tau1 = 0.00000024, kappa = 0.00000010 -> T = 2466.86034494\n",
      " 46: tau0 = 0.78545259, tau1 = 0.00000024, kappa = 0.00000001 -> T = 2466.86034741\n"
     ]
    }
   ],
   "source": [
    "x0 =  np.array([0.1,0.1,0.1])\n",
    "it = 0\n",
    "result = optimize.minimize(obj, x0, method='SLSQP',bounds=bounds, args=(nu,frisch,m,w_vec,tau0,tau1,kappa))"
   ]
  },
  {
   "cell_type": "markdown",
   "metadata": {},
   "source": [
    "**The result is effectively the samme.** More clear if we force $\\tau_1 = \\kappa = 0$:"
   ]
  },
  {
   "cell_type": "code",
   "execution_count": 18,
   "metadata": {},
   "outputs": [
    {
     "name": "stdout",
     "output_type": "stream",
     "text": [
      "  0: tau0 = 0.10000000 -> T = 864.53152086\n",
      "  1: tau0 = 0.10000001 -> T = 864.53158202\n",
      "  2: tau0 = 1.00000000 -> T = 0.06054603\n",
      "  3: tau0 = 0.46466727 -> T = 2130.83099876\n",
      "  4: tau0 = 0.46466729 -> T = 2130.83103729\n",
      "  5: tau0 = 1.00000000 -> T = 0.06054603\n",
      "  6: tau0 = 0.57007452 -> T = 2359.25978275\n",
      "  7: tau0 = 0.57007454 -> T = 2359.25980785\n",
      "  8: tau0 = 0.76709138 -> T = 2382.15780338\n",
      "  9: tau0 = 0.67588351 -> T = 2465.95328279\n",
      " 10: tau0 = 0.67588352 -> T = 2465.95328559\n",
      " 11: tau0 = 0.68916413 -> T = 2466.71866688\n",
      " 12: tau0 = 0.68916415 -> T = 2466.71866574\n",
      " 13: tau0 = 0.68531711 -> T = 2466.86018561\n",
      " 14: tau0 = 0.68531713 -> T = 2466.86018565\n",
      " 15: tau0 = 0.68543657 -> T = 2466.86034695\n",
      " 16: tau0 = 0.68543658 -> T = 2466.86034695\n"
     ]
    }
   ],
   "source": [
    "x0 = np.array([0.1])\n",
    "bounds = ((0,1),)\n",
    "it = 0\n",
    "result = optimize.minimize(obj, x0, method='SLSQP',bounds=bounds, args=(nu,frisch,m,w_vec,tau0,tau1,0))"
   ]
  }
 ],
 "metadata": {
  "kernelspec": {
   "display_name": "Python 3 (ipykernel)",
   "language": "python",
   "name": "python3"
  },
  "language_info": {
   "codemirror_mode": {
    "name": "ipython",
    "version": 3
   },
   "file_extension": ".py",
   "mimetype": "text/x-python",
   "name": "python",
   "nbconvert_exporter": "python",
   "pygments_lexer": "ipython3",
   "version": "3.9.10"
  },
  "toc-autonumbering": true
 },
 "nbformat": 4,
 "nbformat_minor": 4
}
