{
 "cells": [
  {
   "cell_type": "markdown",
   "metadata": {},
   "source": [
    "# Structure: *Programming is more than writing code*"
   ]
  },
  {
   "cell_type": "markdown",
   "metadata": {},
   "source": [
    "**Table of contents**<a id='toc0_'></a>    \n",
    "- 1. [Structure](#toc1_)    \n",
    "- 2. [Design patterns](#toc2_)    \n",
    "- 3. [Modules](#toc3_)    \n",
    "- 4. [Git](#toc4_)    \n",
    "\n",
    "<!-- vscode-jupyter-toc-config\n",
    "\tnumbering=true\n",
    "\tanchor=true\n",
    "\tflat=false\n",
    "\tminLevel=2\n",
    "\tmaxLevel=6\n",
    "\t/vscode-jupyter-toc-config -->\n",
    "<!-- THIS CELL WILL BE REPLACED ON TOC UPDATE. DO NOT WRITE YOUR TEXT IN THIS CELL -->"
   ]
  },
  {
   "cell_type": "markdown",
   "metadata": {},
   "source": [
    "You seldom write some code, run it, get the right results, and then never use it again.\n",
    "\n",
    " * Firstly: You make errors (bugs) when you code.\n",
    " * Secondly: You need to share your code with colleagues and your future self."
   ]
  },
  {
   "attachments": {},
   "cell_type": "markdown",
   "metadata": {},
   "source": [
    "Transparent **macro- and microstructure** is important: \n",
    "* For preventing errors\n",
    "* For finding errors\n",
    "* For making your code interpretable for others and your future-self\n",
    "\n",
    "**No code is self-explanatory** - even though if might seem so when you write it. \n",
    "\n",
    "**Cleaning, commenting and documenting code takes time**, but is a crucial aspect of good programming.\n",
    "\n",
    "In **scientific programming**, a transparent program structure and good documentation is also a cornerstone in securing **replicability**. "
   ]
  },
  {
   "cell_type": "markdown",
   "metadata": {},
   "source": [
    "## 1. <a id='toc1_'></a>[Structure](#toc0_)"
   ]
  },
  {
   "attachments": {},
   "cell_type": "markdown",
   "metadata": {},
   "source": [
    "**Macro-structure** (wrt. folders and files):\n",
    "\n",
    "1. **One folder** for each project with ALL required files.\n",
    "2. **End goal**: *One file to run it all*. *Very important!*\n",
    "3. **Module files** (.py): Define functions, classes, etc.\n",
    "4. **Notebook files** (.ipynb): Call functions, classes etc. + explain and present the results.\n",
    "5. **Larger projects:** Sub-folders for data, figures, etc. (*not relevant now*)."
   ]
  },
  {
   "attachments": {},
   "cell_type": "markdown",
   "metadata": {},
   "source": [
    "**Micro-structure** (with-in files): Follow the official [PEP8 guideline](https://www.python.org/dev/peps/pep-0008/)."
   ]
  },
  {
   "cell_type": "markdown",
   "metadata": {},
   "source": [
    "**Note:** A style guide is about consistency. Consistency with this style guide is important. Consistency within a project is more important. Consistency within one module or function is the most important."
   ]
  },
  {
   "attachments": {},
   "cell_type": "markdown",
   "metadata": {},
   "source": [
    "**Recommendations:**\n",
    "\n",
    "1. **Code layout:**\n",
    "    * **Indentation:** Four spaces\n",
    "    * **Line length:** Max of 79 characters (wrap line + indent properly)\n",
    "    * **Strings:** Use single or double quote (be consistent)\n",
    "    * **White space:**\n",
    "        * Around assignment: ``x = y``\n",
    "        * After colon: ``if x == 2: print(x)``\n",
    "        * Around operators with lowest priority in a calculation: ``c = (a+b) * (a-b)`` or `z = x*x + y*y` \n",
    "2. **Naming conventions:** Short, but also precise\n",
    "    * **Modules:** Lower case with potential underscores (e.g. ``numecon`` or ``num_econ``)\n",
    "    * **Classes:** Camel case (e.g. ``ConsumerClass``)\n",
    "    * **Variables, functions and methods:** Lower case with potential underscores     \n",
    "3. **Ordered section comments:** Break your code into sections\n",
    "    * Give each section a name and a place in the ordering\n",
    "    * Level 1: a, b, c etc.\n",
    "    * Level 2: i, ii, iii, iv etc.\n",
    "    * Level 3: o, oo, ooo, oooo etc.\n",
    "4. **Line comments:** Small additional hints\n",
    "    * Again, short and precise\n",
    "    * Avoid just explaining what the code does (must provide additional information)\n",
    "5. **Docstrings:** Should be written for all functions, methods and classes (see how below)."
   ]
  },
  {
   "attachments": {},
   "cell_type": "markdown",
   "metadata": {},
   "source": [
    "**More on names:**\n",
    "\n",
    "1. Name functions after their **intended use**.\n",
    "1. Help your self in debugging and name variables in a **searchable way**\n",
    "1. Normally avoid using any special characters.\n",
    "2. Unused variables and non-public methods should start with a ``_``\n"
   ]
  },
  {
   "attachments": {},
   "cell_type": "markdown",
   "metadata": {},
   "source": [
    "**Two different perspectives on comments:**\n",
    "\n",
    "1. The comments explain humans what the code does.\n",
    "2. The code makes the computer do what the comments say. "
   ]
  },
  {
   "cell_type": "markdown",
   "metadata": {},
   "source": [
    "**Example of well formatted code:**"
   ]
  },
  {
   "cell_type": "code",
   "execution_count": 1,
   "metadata": {},
   "outputs": [
    {
     "name": "stdout",
     "output_type": "stream",
     "text": [
      "2.1972245773362196\n",
      "1.3862943611198906\n",
      "0.0\n",
      "0.0\n",
      "1.3862943611198906\n",
      "2.1972245773362196\n"
     ]
    }
   ],
   "source": [
    "import math\n",
    "\n",
    "# a. name for section\n",
    "alpha = 1\n",
    "beta = 2\n",
    "x = [-3, -2, -1, 1, 2, 3]\n",
    "\n",
    "# b. name for section\n",
    "def my_function(x,alpha,beta):\n",
    "    \"\"\" explain what the function does (docstring)\n",
    "    \n",
    "    Args:\n",
    "    \n",
    "        x (float): explanation\n",
    "        alpha (float): explanation\n",
    "        beta (float): explanation\n",
    "        \n",
    "    Returns:\n",
    "    \n",
    "        y (float): explanation\n",
    "    \n",
    "    \"\"\"\n",
    "    \n",
    "    y = x**2 \n",
    "    return y\n",
    "\n",
    "# c. name for section\n",
    "for i in range(len(x)):\n",
    "    \n",
    "    # i. name for sub-section\n",
    "    y = my_function(x[i],alpha,alpha)\n",
    "    \n",
    "    # ii. name for sub-section\n",
    "    cond = y > 0 # non-positive not allowed due to log (line comment)\n",
    "    \n",
    "    # iii. name for sub-section\n",
    "    if cond:\n",
    "        print(math.log(y))"
   ]
  },
  {
   "attachments": {},
   "cell_type": "markdown",
   "metadata": {},
   "source": [
    "**Try:** Hover over ``my_function``"
   ]
  },
  {
   "cell_type": "markdown",
   "metadata": {},
   "source": [
    "**Recommendation:** Try to think about which sections and sub-sections you need beforehand. You can even write *before* you write code! "
   ]
  },
  {
   "cell_type": "markdown",
   "metadata": {},
   "source": [
    "## 2. <a id='toc2_'></a>[Design patterns](#toc0_)"
   ]
  },
  {
   "attachments": {},
   "cell_type": "markdown",
   "metadata": {},
   "source": [
    "When thinking about how organize your functions and objects, few commandments that will serve you well: \n",
    "\n",
    "1. **DRY:** *Do not Repeat Yourself*. A specific line of code must only appear once in your script.    \n",
    "2. **One job:** A function has *one job only*. Sub-tasks within the main task is delegated to other functions.   \n",
    "3. **No side effects:** If a function returns $x$, then it should *not also* produce lasting changes to $y$."
   ]
  },
  {
   "attachments": {},
   "cell_type": "markdown",
   "metadata": {},
   "source": [
    "**More on design patterns**:  \n",
    "\n",
    "* You can check out [**Google's Python style guide**](https://google.github.io/styleguide/pyguide.html) to catch a quick glimpse of how they organize their work. \n",
    "* One of the bibles on design patterns is edited by the famous **Uncle Bob**.\n",
    "\n",
    "<img src=\"cleancode_book.jpg\" alt=\"Drawing\" style=\"width: 300px; margin-left: 300px\"/>  "
   ]
  },
  {
   "cell_type": "markdown",
   "metadata": {},
   "source": [
    "## 3. <a id='toc3_'></a>[Modules](#toc0_)"
   ]
  },
  {
   "attachments": {},
   "cell_type": "markdown",
   "metadata": {},
   "source": [
    "**Important:** if you write changes in the code of your own module, eg. mymodule, and if mymodule has **already** been imported before the changes, then simply running the *import mymodule* statement again will **not** import your changes. "
   ]
  },
  {
   "attachments": {},
   "cell_type": "markdown",
   "metadata": {},
   "source": [
    "**Solution:** Use the the autoreload magics below"
   ]
  },
  {
   "cell_type": "code",
   "execution_count": 2,
   "metadata": {},
   "outputs": [],
   "source": [
    "%load_ext autoreload\n",
    "%autoreload 2"
   ]
  },
  {
   "cell_type": "code",
   "execution_count": 3,
   "metadata": {},
   "outputs": [],
   "source": [
    "import mymodule as mm"
   ]
  },
  {
   "cell_type": "code",
   "execution_count": 6,
   "metadata": {},
   "outputs": [
    {
     "name": "stdout",
     "output_type": "stream",
     "text": [
      "name 'a' is not defined\n"
     ]
    }
   ],
   "source": [
    "try:\n",
    "    mm.myfun(2)\n",
    "except Exception as e:\n",
    "    print(e)"
   ]
  },
  {
   "attachments": {},
   "cell_type": "markdown",
   "metadata": {},
   "source": [
    "**Task:** Place cursor at `myfun` and press `F12`"
   ]
  },
  {
   "cell_type": "markdown",
   "metadata": {},
   "source": [
    "## 4. <a id='toc4_'></a>[Git](#toc0_)"
   ]
  },
  {
   "attachments": {},
   "cell_type": "markdown",
   "metadata": {},
   "source": [
    "The purpose of git is to allow you to easily share your code with collaborators and track the changes each of you make.\n",
    "\n",
    "**Essential Git terms:**\n",
    "\n",
    "* **Local** your computer\n",
    "* **Remotes** the code on Github and on other computers.\n",
    "* *Branch** a branch of code is a separate track or copy of the code base on which you can develop new stuff. There is normally a structure of a main branch that holds the current working version of code and then several testing branches where new stuff is developed. After development, those braches are merged onto the main branch.\n",
    "* **.gitignore** a file that contains specifications on which types of files that are not included in process of sending changes back and forth.\n",
    "* **.git** there is a hidden folder in all git repositories. This folder includes the diff and head files that contain the whole history of changes to code so far. Delete .git, and your code folders are no longer a working repository. Now it's just regular code.\n",
    "\n",
    "**Essential Git commands:**\n",
    "\n",
    "* **Fetch** is the process of getting aware of any changes to code outside the local repository on your computer. Does not happen automatically! You are not importing changes by fetching, you just make your local check if anything has happened on the remote repo(s).\n",
    "* **Stage** before you can send off your own changes to code, you need to decide which chunks of code specifically to send. Mostly, you will just stage all, that is, send off all changes you have made.\n",
    "* **Commit** the process of making your changes available to the remote repo.\n",
    "* **Merge** when you let changes to code from remotes get weaved into your own code.\n",
    "* **Push** after committing, you order the remote take the changes you made. The remote will not automatically accept the order, if you are not the admin of the remote repo.\n",
    "* **Pull** is fetching and merging with the remote.\n",
    "* **Sync** is pulling and then pushing to the remote. It's a function special to VS Code."
   ]
  }
 ],
 "metadata": {
  "kernelspec": {
   "display_name": "base",
   "language": "python",
   "name": "python3"
  },
  "language_info": {
   "codemirror_mode": {
    "name": "ipython",
    "version": 3
   },
   "file_extension": ".py",
   "mimetype": "text/x-python",
   "name": "python",
   "nbconvert_exporter": "python",
   "pygments_lexer": "ipython3",
   "version": "3.9.15"
  },
  "toc-autonumbering": true,
  "vscode": {
   "interpreter": {
    "hash": "47ef90cdf3004d3f859f1fb202523c65c07ba7c22eefd261b181f4744e2d0403"
   }
  }
 },
 "nbformat": 4,
 "nbformat_minor": 4
}
