{
 "cells": [
  {
   "cell_type": "markdown",
   "metadata": {},
   "source": [
    "**Table of contents**<a id='toc0_'></a>    \n",
    "- 1. [Your first notebook session](#toc1_)    \n",
    "  - 1.1. [Execution of code in cells](#toc1_1_)    \n",
    "- 2. [Fundamentals](#toc2_)    \n",
    "  - 2.1. [The work flow of your computer](#toc2_1_)    \n",
    "  - 2.2. [What is a variable?](#toc2_2_)    \n",
    "- 3. [Atomic types](#toc3_)    \n",
    "  - 3.1. [Type conversion](#toc3_1_)    \n",
    "  - 3.2. [Operators](#toc3_2_)    \n",
    "  - 3.3. [Augmentation](#toc3_3_)    \n",
    "  - 3.4. [Logical operators](#toc3_4_)    \n",
    "  - 3.5. [Summary](#toc3_5_)    \n",
    "- 4. [Containers](#toc4_)    \n",
    "  - 4.1. [Lists](#toc4_1_)    \n",
    "    - 4.1.1. [Slicing a list](#toc4_1_1_)    \n",
    "    - 4.1.2. [Referencing](#toc4_1_2_)    \n",
    "  - 4.2. [Tuples](#toc4_2_)    \n",
    "  - 4.3. [Dictionaries](#toc4_3_)    \n",
    "  - 4.4. [Summary](#toc4_4_)    \n",
    "- 5. [Extra](#toc5_)    \n",
    "  - 5.1. [SimpleNamespace](#toc5_1_)    \n",
    "\n",
    "<!-- vscode-jupyter-toc-config\n",
    "\tnumbering=true\n",
    "\tanchor=true\n",
    "\tflat=false\n",
    "\tminLevel=1\n",
    "\tmaxLevel=6\n",
    "\t/vscode-jupyter-toc-config -->\n",
    "<!-- THIS CELL WILL BE REPLACED ON TOC UPDATE. DO NOT WRITE YOUR TEXT IN THIS CELL -->"
   ]
  },
  {
   "attachments": {},
   "cell_type": "markdown",
   "metadata": {},
   "source": [
    "Types and operators\n",
    "=============="
   ]
  },
  {
   "cell_type": "markdown",
   "metadata": {
    "slideshow": {
     "slide_type": "skip"
    },
    "tags": []
   },
   "source": [
    "You will be given an in-depth introduction to the **fundamentals of Python** (objects, variables, operators, classes, methods, functions, conditionals, loops). You learn to discriminate between different **types** such as integers, floats, strings, lists, tuples and dictionaries, and determine whether they are **subscriptable** (slicable) and/or **mutable**. You will learn about **referencing** and **scope**. You will learn a tiny bit about **floating point arithmetics**.\n",
    "\n",
    "**Take-away:** This lecture is rather abstract compared to the rest of the course. The central take-away is **a language** to speak about programming in. An overview of the map, later we will study the terrain in detail. It is not about **memorizing**. Almost no code projects begin from scratch, you start by copying in similar code you have written for another project.\n",
    "\n",
    "Hopefully, this notebook can later be used as a **reference sheet**. When you are done with the DataCamp courses, read through this notebook, play around with the code, and ask questions if there is stuff you do not understand. \n",
    "\n",
    "**Links:**\n",
    "\n",
    "* **Tutorial:** A more detailed tutorial is provided [here](https://www.python-course.eu/python3_course.php).\n",
    "* **Markdown:** All text cells are written in *Markdown*. A guide is provided [here](https://www.markdownguide.org/basic-syntax/)."
   ]
  },
  {
   "cell_type": "markdown",
   "metadata": {},
   "source": [
    "# 1. <a id='toc1_'></a>[Your first notebook session](#toc0_)\n",
    "\n",
    "**Optimally:** You have this notebook open as well on your own computer.\n",
    "\n",
    "**Download course material**\n",
    "\n",
    "1. Follow the [installation guide](https://sites.google.com/view/numeconcph-introprog/installation)\n",
    "1. Follow the download part of the [git guide](https://sites.google.com/view/numeconcph-introprog/guides/git)"
   ]
  },
  {
   "attachments": {},
   "cell_type": "markdown",
   "metadata": {
    "slideshow": {
     "slide_type": "slide"
    },
    "tags": []
   },
   "source": [
    "**Updating your local version of a notebook.**\n",
    "\n",
    "* 1: Close down all tabs.\n",
    "* 2: Press the tab **Git**.\n",
    "* 3: Press **Open Git Repository in Terminal**\n",
    "* 4: Make sure that you are in the repository folder you want to update (`IntroProg-lectures` or `IntroProg-exercises`, or your own repo).  \n",
    "    * On **Windows** write `cd`. \n",
    "    * On **Mac** write `pwd`. \n",
    "    * This will display your current location. \n",
    "* 5: **See if YOU have any changes**\n",
    "    * Write `git status`. \n",
    "    * Note if it says `modified: 02_Fundamentals/Primitives_Types_and_operators.ipynb`, or show modifications to **other files**.\n",
    "* 6: **View incoming changes**\n",
    "    * Write `git fetch`\n",
    "    * Write `git diff --name-status main..origin/main` "
   ]
  },
  {
   "attachments": {},
   "cell_type": "markdown",
   "metadata": {
    "jp-MarkdownHeadingCollapsed": true,
    "slideshow": {
     "slide_type": "subslide"
    },
    "tags": []
   },
   "source": [
    "* 7: **Remove conflicting notebooks**\n",
    "    * Were **any** of the files listed in Step 6 **also found** on the list produced in Step 5? Eg. `02_Fundamentals/Primitives_Types_and_operators` in both places?\n",
    "    * If there are any overlaps (conflicts), you need to discard your own changes (you'll learn to stash later). \n",
    "    * Of course, if you made notes or experiments that you want to keep, you can always **make a copy** of your conflicting file and keep that. Just use a good old copy-paste and give your own file a new name.  \n",
    "    * Then write `git checkout -- 02_Fundamentals/Primitives_Types_and_operators` **only if** there was a conflict for that file. Do so with **all** overlapping files.\n",
    "* 8: **Accept incoming changes**\n",
    "    * Write `git merge`\n",
    "\n",
    "As you may have guessed, the command `git pull` is **identical** to a `git fetch` combined with a `git merge`. \n",
    "\n",
    "**Note:** This guide is _only a rough start_, meant to avoid all conflicting updates. You will soon learn to do better and **not** having to discard all you local changes in case of overlaps.  "
   ]
  },
  {
   "cell_type": "markdown",
   "metadata": {
    "jp-MarkdownHeadingCollapsed": true,
    "slideshow": {
     "slide_type": "skip"
    },
    "tags": []
   },
   "source": [
    "**PROBLEMS?** Ask your teaching asssistant ASAP."
   ]
  },
  {
   "cell_type": "markdown",
   "metadata": {},
   "source": [
    "## 1.1. <a id='toc1_1_'></a>[Execution of code in cells](#toc0_)\n",
    "\n",
    "* **Movements**: Arrows and scrolling\n",
    "* **Run cell and advance:** <kbd>Shift</kbd>+<kbd>Enter</kbd>\n",
    "* **Run cell**: <kbd>Ctrl</kbd>+<kbd>Enter</kbd>\n",
    "* **Edit:** <kbd>Enter</kbd>\n",
    "* **Toggle sidebar:** <kbd>Ctrl</kbd>+<kbd>B</kbd>\n",
    "* **Change to markdown cell:** <kbd>M</kbd>\n",
    "* **Change to code cell:** <kbd>Y</kbd>"
   ]
  },
  {
   "cell_type": "markdown",
   "metadata": {},
   "source": [
    "# 2. <a id='toc2_'></a>[Fundamentals](#toc0_)\n",
    "\n",
    "\n",
    "**Computers**\n",
    "\n",
    "Before we start looking at code, let's check out the structure of a **computer**:\n",
    "\n",
    "<img src=\"computer.gif\" alt=\"computer\" width=50% />"
   ]
  },
  {
   "cell_type": "markdown",
   "metadata": {},
   "source": [
    "## 2.1. <a id='toc2_1_'></a>[The work flow of your computer](#toc0_)\n",
    "* You give it some command through an input device (eg. keyboard)\n",
    "* The control unit figures out if any new data from the hard disk (external storage) is needed\n",
    "* If it is needed, the control unit loads that data and puts in an **address** in memory\n",
    "* From memory, the data can be accessed by the arithmetic unit in the cpu to do the prompted calculations \n",
    "* Resulting data is stored in memory\n",
    "* Control unit can then pass resulting data in memory to output devices (eg. screen) and to hard disk\n",
    "\n",
    "**Figuratively speaking**: \n",
    "* **Memory** is like a well organized file cabinet, where all data is neatly stored and quickly accessible.\n",
    "* Each drawer of this \"file cabinet\" is an *address* where data can be stored. \n",
    "* We can see the address of any variable in memory by applying the function `id()`.   \n",
    "* In turn, the **hard disk** is like a cellar with reports in boxes. It contains much more data but is also slower to retrieve from.  "
   ]
  },
  {
   "cell_type": "markdown",
   "metadata": {},
   "source": [
    "## 2.2. <a id='toc2_2_'></a>[What is a variable?](#toc0_)\n",
    "\n",
    "* A variable in python is thus a **reference** (or *pointer*) to a place in memory where data resides.\n",
    "* There are *many* types of variables. \n",
    "* Some store data **directly**, some are **containers** for data.\n",
    "* There are **4 types** of data:\n",
    "    * Booleans (true/false)\n",
    "    * Integers\n",
    "    * Floats (decimal numbers)\n",
    "    * Strings\n",
    "* The 4 kinds of data use **different amounts of memory** pr unit. Important not to waste memory! \n",
    "* A variable that references one of these data types **directly** is an **Atomic type**.  \n",
    "    The data of an atomic type is **unchangeable** at the address. \n",
    "* Variable types that are containers are eg. **lists**, **dictionaries**, **data frames**, etc.  \n",
    "    Their data is allowed to change.\n",
    "* **All variables are objects**: bundles of data and functions. "
   ]
  },
  {
   "cell_type": "markdown",
   "metadata": {},
   "source": [
    "# 3. <a id='toc3_'></a>[Atomic types](#toc0_)\n",
    "\n",
    "The most simple types are called **atomic**, because they cannot be changed - only overwritten. "
   ]
  },
  {
   "cell_type": "markdown",
   "metadata": {
    "slideshow": {
     "slide_type": "slide"
    },
    "tags": []
   },
   "source": [
    "**Integers (int):** -3, -2, -1, 0, 1, 2, 3, $\\ldots, \\infty$  \n",
    "There is no cap on the size of ints in python!"
   ]
  },
  {
   "cell_type": "code",
   "execution_count": 46,
   "metadata": {},
   "outputs": [],
   "source": [
    "import sys # Don't worry about this, it is a built in module which allows us to see how much memory objects fill on our computer"
   ]
  },
  {
   "cell_type": "code",
   "execution_count": 47,
   "metadata": {
    "slideshow": {
     "slide_type": "fragment"
    },
    "tags": []
   },
   "outputs": [
    {
     "name": "stdout",
     "output_type": "stream",
     "text": [
      "x is a <class 'int'>\n",
      "x = 1\n",
      "Address of x is 2482308540720\n",
      "x uses 28 bytes\n",
      "\n",
      "Note that the address is new, as x gets a new value!\n",
      "x = 2\n",
      "Address of x is 2482308540752\n"
     ]
    }
   ],
   "source": [
    "# variable x references an integer type object with a value of 1\n",
    "x = 1 \n",
    "\n",
    "print('x is a', type(x)) # prints the type of x\n",
    "print('x =', x)\n",
    "print('Address of x is',id(x)) \n",
    "print('x uses',sys.getsizeof(x),'bytes')\n",
    "\n",
    "x = x*2\n",
    "print('\\nNote that the address is new, as x gets a new value!')\n",
    "print('x =', x)\n",
    "print('Address of x is',id(x)) "
   ]
  },
  {
   "cell_type": "markdown",
   "metadata": {
    "slideshow": {
     "slide_type": "slide"
    },
    "tags": []
   },
   "source": [
    "**Decimal numbers (float)**: 3.14, 2.72, 1.0, etc."
   ]
  },
  {
   "cell_type": "code",
   "execution_count": 2,
   "metadata": {
    "slideshow": {
     "slide_type": "fragment"
    },
    "tags": []
   },
   "outputs": [
    {
     "name": "stdout",
     "output_type": "stream",
     "text": [
      "x is a <class 'float'>\n",
      "x = 1.2\n",
      "x uses 24 bytes\n"
     ]
    }
   ],
   "source": [
    "x = 1.2\n",
    "# variable x references an floating point (decimal number) type object \n",
    "# with a value of 1.2 \n",
    "\n",
    "print('x is a',type(x))\n",
    "print('x =',x)\n",
    "print('x uses',sys.getsizeof(x),'bytes')"
   ]
  },
  {
   "cell_type": "markdown",
   "metadata": {
    "slideshow": {
     "slide_type": "slide"
    },
    "tags": []
   },
   "source": [
    "**Strings (str)**: 'abc', '123', 'this is a full sentence', etc."
   ]
  },
  {
   "cell_type": "code",
   "execution_count": 3,
   "metadata": {
    "slideshow": {
     "slide_type": "fragment"
    },
    "tags": []
   },
   "outputs": [
    {
     "name": "stdout",
     "output_type": "stream",
     "text": [
      "x is a <class 'str'>\n",
      "x = abc\n",
      "x uses 52 bytes\n"
     ]
    }
   ],
   "source": [
    "x = 'abc' \n",
    "# variable x references a string type opbject \n",
    "# with a value of 'abc'\n",
    "\n",
    "print('x is a',type(x))\n",
    "print('x =',x)\n",
    "print('x uses',sys.getsizeof(x),'bytes')"
   ]
  },
  {
   "cell_type": "markdown",
   "metadata": {
    "slideshow": {
     "slide_type": "fragment"
    },
    "tags": []
   },
   "source": [
    "**Note:** Alternatively, use double quotes instead of single quotes."
   ]
  },
  {
   "cell_type": "code",
   "execution_count": 4,
   "metadata": {
    "slideshow": {
     "slide_type": "skip"
    },
    "tags": []
   },
   "outputs": [
    {
     "name": "stdout",
     "output_type": "stream",
     "text": [
      "x is a <class 'str'>\n",
      "x = abc\n"
     ]
    },
    {
     "data": {
      "text/plain": [
       "52"
      ]
     },
     "execution_count": 4,
     "metadata": {},
     "output_type": "execute_result"
    }
   ],
   "source": [
    "x = \"abc\" \n",
    "# variable x reference a string type opbject \n",
    "# with a value of 'abc'\n",
    "\n",
    "print('x is a',type(x))\n",
    "print('x =',x)\n",
    "sys.getsizeof(\"abc\")"
   ]
  },
  {
   "cell_type": "markdown",
   "metadata": {
    "slideshow": {
     "slide_type": "slide"
    },
    "tags": []
   },
   "source": [
    "**Booleans (bool)**: True and False"
   ]
  },
  {
   "cell_type": "code",
   "execution_count": 5,
   "metadata": {
    "slideshow": {
     "slide_type": "fragment"
    },
    "tags": []
   },
   "outputs": [
    {
     "name": "stdout",
     "output_type": "stream",
     "text": [
      "x is a <class 'bool'>\n",
      "x = True\n",
      "x uses 28 bytes\n"
     ]
    }
   ],
   "source": [
    "x = True \n",
    "# variable x reference a boolean type opbject \n",
    "# with a value of False\n",
    "\n",
    "print('x is a',type(x))\n",
    "print('x =',x)\n",
    "print('x uses',sys.getsizeof(x),'bytes')"
   ]
  },
  {
   "cell_type": "markdown",
   "metadata": {
    "slideshow": {
     "slide_type": "skip"
    },
    "tags": []
   },
   "source": [
    "**Atomic types:**\n",
    "\n",
    "1. Integers, *int*\n",
    "2. Floating point numbers, *float*\n",
    "3. Strings, *str*\n",
    "4. Booleans, *bool*"
   ]
  },
  {
   "cell_type": "markdown",
   "metadata": {},
   "source": [
    "## 3.1. <a id='toc3_1_'></a>[Type conversion](#toc0_)\n",
    "\n",
    "Objects of one type can (sometimes) be **converted** into another type.  \n",
    "This obviously changes the address of an atomic type.  \n",
    "As an example, from float to string:"
   ]
  },
  {
   "cell_type": "code",
   "execution_count": 6,
   "metadata": {
    "slideshow": {
     "slide_type": "fragment"
    },
    "tags": []
   },
   "outputs": [
    {
     "name": "stdout",
     "output_type": "stream",
     "text": [
      "x = 1.2\n",
      "x is a <class 'float'>\n",
      "y = 1.2\n",
      "y is a <class 'str'>\n"
     ]
    }
   ],
   "source": [
    "x = 1.2\n",
    "# variable x references an floating point (decimal number) type object \n",
    "# with a value of 1.2 \n",
    "\n",
    "y = str(x) \n",
    "# variable y now references a string type object \n",
    "# with a value created based on x \n",
    "\n",
    "print('x =', x)\n",
    "print('x is a',type(x))\n",
    "print('y =', y)\n",
    "print('y is a',type(y))"
   ]
  },
  {
   "cell_type": "markdown",
   "metadata": {
    "slideshow": {
     "slide_type": "slide"
    },
    "tags": []
   },
   "source": [
    "From float to integer: **always** rounds down!"
   ]
  },
  {
   "cell_type": "code",
   "execution_count": 7,
   "metadata": {
    "slideshow": {
     "slide_type": "fragment"
    },
    "tags": []
   },
   "outputs": [
    {
     "name": "stdout",
     "output_type": "stream",
     "text": [
      "x = 2.9\n",
      "y = 2\n",
      "y is a <class 'int'>\n"
     ]
    }
   ],
   "source": [
    "x = 2.9\n",
    "\n",
    "y = int(x) # variable y now references an integer type object  \n",
    "print('x =', x)\n",
    "print('y =', y)\n",
    "print('y is a',type(y))"
   ]
  },
  {
   "cell_type": "markdown",
   "metadata": {
    "slideshow": {
     "slide_type": "fragment"
    },
    "tags": []
   },
   "source": [
    "**Limitation:** You can, however, e.g. not convert a string **with letters** to an integer."
   ]
  },
  {
   "cell_type": "code",
   "execution_count": 8,
   "metadata": {
    "slideshow": {
     "slide_type": "skip"
    },
    "tags": []
   },
   "outputs": [
    {
     "name": "stdout",
     "output_type": "stream",
     "text": [
      "canNOT be done\n"
     ]
    }
   ],
   "source": [
    "try: # try to run this block\n",
    "    x = int('222a')\n",
    "    print('can be done')\n",
    "    print(x)\n",
    "except: # if any error found run this block instead\n",
    "    print('canNOT be done')"
   ]
  },
  {
   "cell_type": "markdown",
   "metadata": {
    "slideshow": {
     "slide_type": "skip"
    },
    "tags": []
   },
   "source": [
    "**Note**: The identation is required (typically 4 spaces)."
   ]
  },
  {
   "cell_type": "markdown",
   "metadata": {
    "slideshow": {
     "slide_type": "slide"
    },
    "tags": []
   },
   "source": [
    "**Question**: Can you convert a boolean variable `x = False` to an integer?\n",
    "\n",
    "- **A:** No\n",
    "- **B:** Yes, and the result is 0\n",
    "- **C:** Yes, and the result is 1\n",
    "- **D:** Yes, and the result is -1\n",
    "- **E:** Don't know"
   ]
  },
  {
   "cell_type": "markdown",
   "metadata": {},
   "source": [
    "## 3.2. <a id='toc3_2_'></a>[Operators](#toc0_)"
   ]
  },
  {
   "cell_type": "markdown",
   "metadata": {
    "slideshow": {
     "slide_type": "skip"
    },
    "tags": []
   },
   "source": [
    "Variables can be combined using **arithmetic operators** (e.g. +, -, /, **).<br>For numbers we have:"
   ]
  },
  {
   "cell_type": "code",
   "execution_count": 9,
   "metadata": {
    "slideshow": {
     "slide_type": "skip"
    },
    "tags": []
   },
   "outputs": [
    {
     "name": "stdout",
     "output_type": "stream",
     "text": [
      "5\n",
      "1\n",
      "1.5\n",
      "6\n",
      "9\n"
     ]
    }
   ],
   "source": [
    "x = 3\n",
    "y = 2\n",
    "print(x+y)\n",
    "print(x-y)\n",
    "print(x/y)\n",
    "print(x*y)\n",
    "print(x**2)"
   ]
  },
  {
   "cell_type": "markdown",
   "metadata": {
    "slideshow": {
     "slide_type": "skip"
    },
    "tags": []
   },
   "source": [
    "For strings we can use an overloaded '+' for concatenation:"
   ]
  },
  {
   "cell_type": "code",
   "execution_count": 10,
   "metadata": {
    "slideshow": {
     "slide_type": "skip"
    },
    "tags": []
   },
   "outputs": [
    {
     "name": "stdout",
     "output_type": "stream",
     "text": [
      "abcdef\n"
     ]
    }
   ],
   "source": [
    "x = 'abc'\n",
    "y = 'def'\n",
    "print(x+y)"
   ]
  },
  {
   "cell_type": "markdown",
   "metadata": {
    "slideshow": {
     "slide_type": "skip"
    },
    "tags": []
   },
   "source": [
    "A string can also be multiplied by an integer:"
   ]
  },
  {
   "cell_type": "code",
   "execution_count": 11,
   "metadata": {
    "slideshow": {
     "slide_type": "skip"
    },
    "tags": []
   },
   "outputs": [
    {
     "name": "stdout",
     "output_type": "stream",
     "text": [
      "abcabc\n"
     ]
    }
   ],
   "source": [
    "x = 'abc'\n",
    "y = 2\n",
    "print(x*y)"
   ]
  },
  {
   "cell_type": "markdown",
   "metadata": {
    "slideshow": {
     "slide_type": "skip"
    },
    "tags": []
   },
   "source": [
    "**Question**: What is the result of `x = 3**2`?\n",
    "\n",
    "- **A:** `x = 3`\n",
    "- **B:** `x = 6`\n",
    "- **C:** `x = 9`\n",
    "- **D:** `x = 12`\n",
    "- **E:** Don't know\n"
   ]
  },
  {
   "cell_type": "markdown",
   "metadata": {
    "slideshow": {
     "slide_type": "skip"
    },
    "tags": []
   },
   "source": [
    "**Note:** Standard division converts integers to floating point numbers."
   ]
  },
  {
   "cell_type": "code",
   "execution_count": 12,
   "metadata": {
    "slideshow": {
     "slide_type": "skip"
    },
    "tags": []
   },
   "outputs": [
    {
     "name": "stdout",
     "output_type": "stream",
     "text": [
      "4.0 <class 'float'>\n",
      "2 <class 'int'>\n"
     ]
    }
   ],
   "source": [
    "x = 8\n",
    "y = x/2 # standard division\n",
    "z = x//3 # integer division\n",
    "print(y,type(y))\n",
    "print(z,type(z))"
   ]
  },
  {
   "cell_type": "markdown",
   "metadata": {},
   "source": [
    "## 3.3. <a id='toc3_3_'></a>[Augmentation](#toc0_)\n",
    "\n",
    "Variables can be changed using **augmentation operators** (e.g. +=, -=, *=, /=)"
   ]
  },
  {
   "cell_type": "code",
   "execution_count": 13,
   "metadata": {
    "slideshow": {
     "slide_type": "fragment"
    },
    "tags": []
   },
   "outputs": [
    {
     "name": "stdout",
     "output_type": "stream",
     "text": [
      "x = 3\n",
      "x = 4\n",
      "x = 8\n",
      "x = 4.0\n"
     ]
    }
   ],
   "source": [
    "x = 3 \n",
    "print('x =',x)\n",
    "\n",
    "x += 1 # same result as x = x+1\n",
    "print('x =',x)\n",
    "x *= 2 # same result as x = x*2\n",
    "print('x =',x)\n",
    "x /= 2 # same result as x = x/2\n",
    "print('x =',x)"
   ]
  },
  {
   "cell_type": "markdown",
   "metadata": {},
   "source": [
    "## 3.4. <a id='toc3_4_'></a>[Logical operators](#toc0_)\n",
    "\n",
    "Variables can be compared using **boolean operators** (e.g. ==, !=, <, <=, >, >=). "
   ]
  },
  {
   "cell_type": "code",
   "execution_count": 14,
   "metadata": {
    "slideshow": {
     "slide_type": "fragment"
    },
    "tags": []
   },
   "outputs": [
    {
     "name": "stdout",
     "output_type": "stream",
     "text": [
      "False\n",
      "False\n",
      "True\n",
      "False\n"
     ]
    }
   ],
   "source": [
    "x = 3\n",
    "y = 2\n",
    "z = 10\n",
    "print(x < y) # less than\n",
    "print(x <= y) # less than or equal\n",
    "print(x != y) # not equal\n",
    "print(x == y) # equal"
   ]
  },
  {
   "cell_type": "markdown",
   "metadata": {
    "slideshow": {
     "slide_type": "fragment"
    },
    "tags": []
   },
   "source": [
    "The comparison returns a boolean variable:"
   ]
  },
  {
   "cell_type": "code",
   "execution_count": 15,
   "metadata": {
    "slideshow": {
     "slide_type": "fragment"
    },
    "tags": []
   },
   "outputs": [
    {
     "name": "stdout",
     "output_type": "stream",
     "text": [
      "False\n"
     ]
    }
   ],
   "source": [
    "z = x < y # z is now a boolean variable\n",
    "print(z)"
   ]
  },
  {
   "cell_type": "markdown",
   "metadata": {},
   "source": [
    "## 3.5. <a id='toc3_5_'></a>[Summary](#toc0_)"
   ]
  },
  {
   "cell_type": "markdown",
   "metadata": {
    "slideshow": {
     "slide_type": "skip"
    },
    "tags": []
   },
   "source": [
    "The new central concepts are:\n",
    "\n",
    "1. Variable\n",
    "2. Reference\n",
    "3. Object\n",
    "4. Type (int, float, str, bool)\n",
    "5. Value\n",
    "6. Operator (+, -, *, **, /, //, % etc.)\n",
    "7. Augmentation (+=, -=, *=, /= etc.)\n",
    "8. Comparison (==, !=, <, <= etc.)"
   ]
  },
  {
   "cell_type": "markdown",
   "metadata": {},
   "source": [
    "# 4. <a id='toc4_'></a>[Containers](#toc0_)\n",
    "\n",
    "* A more complicated type of variable is a **container**.  \n",
    "* This is an object, which consists of several objects, for instance atomic types.  \n",
    "* Therefore, containers are also called **collection types**. \n",
    "* **Types of containers**\n",
    "    * Lists\n",
    "    * Dictionaries\n",
    "    * Tuples \n",
    "    * Pandas data frames\n",
    "    * ..."
   ]
  },
  {
   "cell_type": "markdown",
   "metadata": {},
   "source": [
    "## 4.1. <a id='toc4_1_'></a>[Lists](#toc0_)\n",
    "\n",
    "A first example is a **list**.  A list contains **elements** each **referencing** some data in memory."
   ]
  },
  {
   "cell_type": "code",
   "execution_count": 16,
   "metadata": {
    "slideshow": {
     "slide_type": "fragment"
    },
    "tags": []
   },
   "outputs": [
    {
     "name": "stdout",
     "output_type": "stream",
     "text": [
      "[1, 'abc'] is a <class 'list'>\n"
     ]
    }
   ],
   "source": [
    "x = [1,'abc'] \n",
    "# variable x references a list type object with elements\n",
    "# referencing 1 and 'abc'\n",
    "\n",
    "print(x,'is a', type(x))"
   ]
  },
  {
   "cell_type": "markdown",
   "metadata": {
    "slideshow": {
     "slide_type": "fragment"
    },
    "tags": []
   },
   "source": [
    "The **length** (size) of a list can be found with the **len** function."
   ]
  },
  {
   "cell_type": "code",
   "execution_count": 17,
   "metadata": {
    "slideshow": {
     "slide_type": "fragment"
    },
    "tags": []
   },
   "outputs": [
    {
     "name": "stdout",
     "output_type": "stream",
     "text": [
      "the number of elements in x is 2\n"
     ]
    }
   ],
   "source": [
    "print(f'the number of elements in x is {len(x)}')"
   ]
  },
  {
   "cell_type": "markdown",
   "metadata": {
    "slideshow": {
     "slide_type": "fragment"
    },
    "tags": []
   },
   "source": [
    "A list is **subscriptable** and starts, like everything in Python, from **index 0**. Beware!"
   ]
  },
  {
   "cell_type": "code",
   "execution_count": 18,
   "metadata": {
    "slideshow": {
     "slide_type": "fragment"
    },
    "tags": []
   },
   "outputs": [
    {
     "name": "stdout",
     "output_type": "stream",
     "text": [
      "1\n",
      "abc\n"
     ]
    }
   ],
   "source": [
    "print(x[0]) # 1st element \n",
    "print(x[1]) # 2nd element"
   ]
  },
  {
   "cell_type": "markdown",
   "metadata": {
    "slideshow": {
     "slide_type": "slide"
    },
    "tags": []
   },
   "source": [
    "A list is **mutable**, i.e. you can change its elements on the fly.  \n",
    "That is, you can change its **references** to objects."
   ]
  },
  {
   "cell_type": "code",
   "execution_count": 19,
   "metadata": {
    "slideshow": {
     "slide_type": "fragment"
    },
    "tags": []
   },
   "outputs": [
    {
     "name": "stdout",
     "output_type": "stream",
     "text": [
      "x = ['def', 2] has id = 2482392800448\n",
      "x = ['def', 5] has id = 2482392800448\n"
     ]
    }
   ],
   "source": [
    "x[0] = 'def'\n",
    "x[1] = 2\n",
    "print('x =', x, 'has id =',id(x))\n",
    "\n",
    "# Change x[1]\n",
    "x[1] = 5\n",
    "print('x =', x, 'has id =',id(x))"
   ]
  },
  {
   "cell_type": "markdown",
   "metadata": {
    "slideshow": {
     "slide_type": "fragment"
    },
    "tags": []
   },
   "source": [
    "and add more elements"
   ]
  },
  {
   "cell_type": "code",
   "execution_count": 20,
   "metadata": {
    "slideshow": {
     "slide_type": "fragment"
    },
    "tags": []
   },
   "outputs": [
    {
     "name": "stdout",
     "output_type": "stream",
     "text": [
      "['def', 5, 'new_element']\n"
     ]
    }
   ],
   "source": [
    "x.append('new_element') # add new element to end of list\n",
    "print(x)"
   ]
  },
  {
   "cell_type": "markdown",
   "metadata": {
    "slideshow": {
     "slide_type": "skip"
    },
    "tags": []
   },
   "source": [
    "**Link:** [Why is 0 the first index?](http://python-history.blogspot.com/2013/10/why-python-uses-0-based-indexing.html)  "
   ]
  },
  {
   "cell_type": "markdown",
   "metadata": {},
   "source": [
    "### 4.1.1. <a id='toc4_1_1_'></a>[Slicing a list](#toc0_)\n",
    "\n",
    "A list is **slicable**, i.e. you can extract a list from a list."
   ]
  },
  {
   "cell_type": "code",
   "execution_count": 21,
   "metadata": {
    "slideshow": {
     "slide_type": "fragment"
    },
    "tags": []
   },
   "outputs": [
    {
     "name": "stdout",
     "output_type": "stream",
     "text": [
      "[0, 1, 2]\n",
      "[1, 2]\n",
      "[0, 1, 2]\n",
      "[1, 2, 3, 4, 5]\n",
      "[0, 1, 2, 3, 4, 5]\n",
      "[0, 1, 2, 3, 4]\n",
      "<class 'list'>\n",
      "<class 'int'>\n"
     ]
    }
   ],
   "source": [
    "x = [0,1,2,3,4,5]\n",
    "print(x[0:3]) # x[0] included, x[3] not included\n",
    "print(x[1:3])\n",
    "print(x[:3])\n",
    "print(x[1:])\n",
    "print(x[:99]) # This is very particular to Python. Normally you'd get an error.  \n",
    "print(x[:-1]) # x[-1] is the last element\n",
    "\n",
    "print(type(x[:-1])) # Slicing yields a list\n",
    "print(type(x[-1])) # Unless only 1 element"
   ]
  },
  {
   "cell_type": "markdown",
   "metadata": {
    "slideshow": {
     "slide_type": "fragment"
    },
    "tags": []
   },
   "source": [
    "**Explantion:** \n",
    "* Slices are half-open intervals. \n",
    "* ``x[i:i+n]`` means starting from element ``x[i]`` and create a list of (up to) ``n`` elements.\n",
    "* Sort of nice if you have calculated ``i`` and know you need ``n`` elements. "
   ]
  },
  {
   "cell_type": "code",
   "execution_count": 22,
   "metadata": {
    "slideshow": {
     "slide_type": "skip"
    },
    "tags": []
   },
   "outputs": [
    {
     "name": "stdout",
     "output_type": "stream",
     "text": [
      "[0, 1, 2]\n",
      "[3, 4]\n",
      "[5]\n"
     ]
    }
   ],
   "source": [
    "# splitting a list at x[3] and x[5] is: \n",
    "print(x[0:3])\n",
    "print(x[3:5])\n",
    "print(x[5:])"
   ]
  },
  {
   "cell_type": "markdown",
   "metadata": {
    "slideshow": {
     "slide_type": "slide"
    },
    "tags": []
   },
   "source": [
    "**Question**: Consider the following code:"
   ]
  },
  {
   "cell_type": "code",
   "execution_count": 23,
   "metadata": {
    "slideshow": {
     "slide_type": "fragment"
    },
    "tags": []
   },
   "outputs": [],
   "source": [
    "x = [0,1,2,3,4,5]"
   ]
  },
  {
   "cell_type": "markdown",
   "metadata": {
    "slideshow": {
     "slide_type": "fragment"
    },
    "tags": []
   },
   "source": [
    "What is the result of `print(x[-4:-2])`?\n",
    "\n",
    "- **A:** [1,2,3]\n",
    "- **B:** [2,3,4]\n",
    "- **C:** [2,3]\n",
    "- **D:** [3,4]\n",
    "- **E:** Don't know"
   ]
  },
  {
   "cell_type": "markdown",
   "metadata": {},
   "source": [
    "### 4.1.2. <a id='toc4_1_2_'></a>[Referencing](#toc0_)\n",
    "**Container types, incl. lists, are non-atomic** \n",
    "* Several variables can refer to the **same** list.\n",
    "* If you change the data of a list that **one** variable refers to, **you change them all**.\n",
    "* Variables refering to the same object has the same id."
   ]
  },
  {
   "cell_type": "code",
   "execution_count": 24,
   "metadata": {
    "slideshow": {
     "slide_type": "fragment"
    },
    "tags": []
   },
   "outputs": [
    {
     "name": "stdout",
     "output_type": "stream",
     "text": [
      "initial x = [1, 2, 3]\n",
      "id of x is 2482391841600\n",
      "id of y is 2482391841600\n",
      "x = [2, 2, 3]\n"
     ]
    }
   ],
   "source": [
    "x = [1,2,3]\n",
    "print('initial x =',x)\n",
    "print('id of x is',id(x))\n",
    "y = x # y now references the same list as x\n",
    "print('id of y is',id(y))\n",
    "y[0] = 2 # change the first element in the list y\n",
    "print('x =',x) # x is also changed because it references the same list as y"
   ]
  },
  {
   "cell_type": "markdown",
   "metadata": {
    "slideshow": {
     "slide_type": "slide"
    },
    "tags": []
   },
   "source": [
    "If you want to know if two variables contain the same reference, use the **is** operator. "
   ]
  },
  {
   "cell_type": "code",
   "execution_count": 25,
   "metadata": {
    "slideshow": {
     "slide_type": "fragment"
    },
    "tags": []
   },
   "outputs": [
    {
     "name": "stdout",
     "output_type": "stream",
     "text": [
      "True\n",
      "False\n"
     ]
    }
   ],
   "source": [
    "print(y is x) \n",
    "z = [1,2]\n",
    "w = [1,2] \n",
    "print(z is w) # z and w have the same numerical content, but do not reference the same object. "
   ]
  },
  {
   "cell_type": "markdown",
   "metadata": {
    "slideshow": {
     "slide_type": "fragment"
    },
    "tags": []
   },
   "source": [
    "**Conclusion:** The `=` sign copy the reference, not the content!"
   ]
  },
  {
   "cell_type": "markdown",
   "metadata": {
    "slideshow": {
     "slide_type": "skip"
    },
    "tags": []
   },
   "source": [
    "Atomic types cannot be changed and keep their identity."
   ]
  },
  {
   "cell_type": "code",
   "execution_count": 26,
   "metadata": {
    "slideshow": {
     "slide_type": "skip"
    },
    "tags": []
   },
   "outputs": [
    {
     "name": "stdout",
     "output_type": "stream",
     "text": [
      "True\n",
      "15 10\n",
      "False\n"
     ]
    }
   ],
   "source": [
    "z = 10\n",
    "w = z\n",
    "print(z is w) # w is now the same reference as z\n",
    "z += 5\n",
    "print(z, w)\n",
    "print(z is w) # z was overwritten in the augmentation statement. "
   ]
  },
  {
   "cell_type": "markdown",
   "metadata": {
    "slideshow": {
     "slide_type": "skip"
    },
    "tags": []
   },
   "source": [
    "If one variable is deleted, the other one still references the list."
   ]
  },
  {
   "cell_type": "code",
   "execution_count": 27,
   "metadata": {
    "slideshow": {
     "slide_type": "skip"
    },
    "tags": []
   },
   "outputs": [
    {
     "name": "stdout",
     "output_type": "stream",
     "text": [
      "[2, 2, 3]\n"
     ]
    }
   ],
   "source": [
    "del x # delete the variable x\n",
    "print(y)"
   ]
  },
  {
   "cell_type": "markdown",
   "metadata": {
    "slideshow": {
     "slide_type": "slide"
    },
    "tags": []
   },
   "source": [
    "Containers should be **copied** by using the copy-module:"
   ]
  },
  {
   "cell_type": "code",
   "execution_count": 28,
   "metadata": {
    "slideshow": {
     "slide_type": "fragment"
    },
    "tags": []
   },
   "outputs": [
    {
     "name": "stdout",
     "output_type": "stream",
     "text": [
      "[2, 2, 3]\n",
      "[1, 2, 3]\n",
      "False\n"
     ]
    }
   ],
   "source": [
    "from copy import copy\n",
    "\n",
    "x = [1,2,3]\n",
    "y = copy(x) # y now a copy of x\n",
    "y[0] = 2\n",
    "print(y)\n",
    "print(x) # x is not changed when y is changed\n",
    "print(x is y) # as they are not the same reference"
   ]
  },
  {
   "cell_type": "markdown",
   "metadata": {
    "slideshow": {
     "slide_type": "fragment"
    },
    "tags": []
   },
   "source": [
    "or by slicing:"
   ]
  },
  {
   "cell_type": "code",
   "execution_count": 29,
   "metadata": {
    "slideshow": {
     "slide_type": "fragment"
    },
    "tags": []
   },
   "outputs": [
    {
     "name": "stdout",
     "output_type": "stream",
     "text": [
      "[2, 2, 3]\n",
      "[1, 2, 3]\n"
     ]
    }
   ],
   "source": [
    "x = [1,2,3]\n",
    "y = x[:] # y now a copy of x\n",
    "y[0] = 2\n",
    "print(y)\n",
    "print(x) # x is not changed when y is changed"
   ]
  },
  {
   "cell_type": "markdown",
   "metadata": {
    "slideshow": {
     "slide_type": "fragment"
    },
    "tags": []
   },
   "source": [
    "**Advanced**: A **deepcopy** is necessary, when the list contains mutable objects."
   ]
  },
  {
   "cell_type": "code",
   "execution_count": 30,
   "metadata": {
    "slideshow": {
     "slide_type": "skip"
    },
    "tags": []
   },
   "outputs": [
    {
     "name": "stdout",
     "output_type": "stream",
     "text": [
      "[[10, 2, 3], 2, 1]\n",
      "[[10, 2, 3], 2, 3]\n",
      "[[1, 2, 3], 2, 3]\n"
     ]
    }
   ],
   "source": [
    "from copy import deepcopy\n",
    "\n",
    "a = [1,2,3]\n",
    "x = [a,2,3] # x is a list of a list and two integers\n",
    "y1 = copy(x) # y1 now a copy x\n",
    "y2 = deepcopy(x) # y2 is a deep copy\n",
    "\n",
    "a[0] = 10 # change1\n",
    "x[-1] = 1 # change2\n",
    "print(x) # Both changes happened\n",
    "print(y1) # y1[0] reference the same list as x[0]. Only change1 happened \n",
    "print(y2) # y2[0] is a copy of the original list referenced by x[0]"
   ]
  },
  {
   "cell_type": "markdown",
   "metadata": {
    "slideshow": {
     "slide_type": "skip"
    },
    "tags": []
   },
   "source": [
    "**Question**: Consider the following code:"
   ]
  },
  {
   "cell_type": "code",
   "execution_count": 31,
   "metadata": {
    "slideshow": {
     "slide_type": "skip"
    },
    "tags": []
   },
   "outputs": [],
   "source": [
    "x = [1,2,3]\n",
    "y = [x,x]\n",
    "z = x\n",
    "z[0] = 3\n",
    "z[2] = 1"
   ]
  },
  {
   "cell_type": "markdown",
   "metadata": {
    "slideshow": {
     "slide_type": "skip"
    },
    "tags": []
   },
   "source": [
    "What is the result of `print(y[0])`?\n",
    "\n",
    "- **A:** 1\n",
    "- **B:** 3\n",
    "- **C:** [3,2,1]\n",
    "- **D:** [1,2,3]\n",
    "- **E:** Don't know"
   ]
  },
  {
   "cell_type": "markdown",
   "metadata": {},
   "source": [
    "## 4.2. <a id='toc4_2_'></a>[Tuples](#toc0_)\n",
    "\n",
    "* A **tuple** is an **immutable list**.\n",
    "* Tuples are created with soft parenthesis, `t = (1,3,9)`.\n",
    "* As with lists, elements are accessed by brackets, `t[0]`. \n",
    "* **Immutable:** `t[0]=10` will produce an error.\n",
    "* We use tuples to pass variables around that should not change by accident.  \n",
    "* **Functions** will **output** tuples if you specify multiple output variables.\n",
    "* Tuples can also be used as arguments to function."
   ]
  },
  {
   "cell_type": "code",
   "execution_count": 32,
   "metadata": {
    "slideshow": {
     "slide_type": "fragment"
    },
    "tags": []
   },
   "outputs": [
    {
     "name": "stdout",
     "output_type": "stream",
     "text": [
      "x = (1, 2, 3) is a <class 'tuple'>\n",
      "x[2] = 3 is a <class 'int'>\n",
      "x[:2] = (1, 2) is a <class 'tuple'>\n"
     ]
    }
   ],
   "source": [
    "x = (1,2,3) # note: parentheses instead of square backets\n",
    "print('x =',x,'is a',type(x))\n",
    "print('x[2] =', x[2], 'is a', type(x[2]))\n",
    "print('x[:2] =', x[:2], 'is a', type(x[:2]))"
   ]
  },
  {
   "cell_type": "markdown",
   "metadata": {},
   "source": [
    "But it **cannot be changed** (it is immutable):"
   ]
  },
  {
   "cell_type": "code",
   "execution_count": 33,
   "metadata": {},
   "outputs": [
    {
     "name": "stdout",
     "output_type": "stream",
     "text": [
      "did NOT succeed in setting x[0]=2\n",
      "(1, 2, 3)\n"
     ]
    }
   ],
   "source": [
    "try: # try to run this block\n",
    "    x[0] = 2\n",
    "    print('did succeed in setting x[0]=2')\n",
    "except: # if any error found run this block instead\n",
    "    print('did NOT succeed in setting x[0]=2')\n",
    "print(x)"
   ]
  },
  {
   "cell_type": "markdown",
   "metadata": {},
   "source": [
    "## 4.3. <a id='toc4_3_'></a>[Dictionaries](#toc0_)\n",
    "\n",
    "* A **dictionary** is a **key-based** container. \n",
    "* Lists and tuples use numerical indices.\n",
    "* Initialized with curly brackets. `d={}` is an empty dictionary.\n",
    "* Should be used when you need to look up data quickly by a name.\n",
    "* Arch example: a **phone book**.  \n",
    "    You know the name of a person (*key*), and want the phone number (*data*).\n",
    "* Frequent use: want to make a **collection** of variables or parameters used in a model. \n",
    "* **Keys:** All immutable objects are valid keys (eg. `str` or `int`).\n",
    "* **Values:** Fully unrestricted. "
   ]
  },
  {
   "cell_type": "code",
   "execution_count": 34,
   "metadata": {
    "slideshow": {
     "slide_type": "fragment"
    },
    "tags": []
   },
   "outputs": [
    {
     "name": "stdout",
     "output_type": "stream",
     "text": [
      "x['ef'] = 2.74\n"
     ]
    }
   ],
   "source": [
    "x = {'abc': 1.2, 'D': 1, 'ef': 2.74, 'G': 30} # Create a dictionary\n",
    "print(\"x['ef'] =\", x['ef']) # Extracting content\n",
    "x['abc'] = 100 # Changing content"
   ]
  },
  {
   "cell_type": "markdown",
   "metadata": {
    "slideshow": {
     "slide_type": "skip"
    },
    "tags": []
   },
   "source": [
    "Elements of a dictionary are **extracted** using their keyword. Can be a variable "
   ]
  },
  {
   "cell_type": "code",
   "execution_count": 35,
   "metadata": {
    "slideshow": {
     "slide_type": "skip"
    },
    "tags": []
   },
   "outputs": [
    {
     "name": "stdout",
     "output_type": "stream",
     "text": [
      "100\n"
     ]
    }
   ],
   "source": [
    "key = 'abc'\n",
    "value = x[key]\n",
    "print(value)"
   ]
  },
  {
   "cell_type": "markdown",
   "metadata": {
    "slideshow": {
     "slide_type": "skip"
    },
    "tags": []
   },
   "source": [
    "**Content is deleted** using its key:"
   ]
  },
  {
   "cell_type": "code",
   "execution_count": 36,
   "metadata": {
    "slideshow": {
     "slide_type": "skip"
    },
    "tags": []
   },
   "outputs": [
    {
     "name": "stdout",
     "output_type": "stream",
     "text": [
      "{'abc': 100, 'D': 1, 'ef': 2.74, 'G': 30}\n",
      "{'D': 1, 'ef': 2.74, 'G': 30}\n"
     ]
    }
   ],
   "source": [
    "print(x)\n",
    "del x['abc']\n",
    "print(x)"
   ]
  },
  {
   "cell_type": "markdown",
   "metadata": {
    "slideshow": {
     "slide_type": "skip"
    },
    "tags": []
   },
   "source": [
    "**Task:** Create a dictionary called `capitals` with the capital names of Denmark, Sweden and Norway as values and country names as keys."
   ]
  },
  {
   "cell_type": "markdown",
   "metadata": {
    "slideshow": {
     "slide_type": "skip"
    },
    "tags": []
   },
   "source": [
    "**Answer:**"
   ]
  },
  {
   "cell_type": "code",
   "execution_count": 37,
   "metadata": {
    "jupyter": {
     "source_hidden": true
    }
   },
   "outputs": [
    {
     "name": "stdout",
     "output_type": "stream",
     "text": [
      "stockholm\n"
     ]
    }
   ],
   "source": [
    "capitals = {}\n",
    "capitals['denmark'] = 'copenhagen'\n",
    "capitals['sweden'] = 'stockholm'\n",
    "capitals['norway'] = 'oslo'\n",
    "\n",
    "capital_of_sweden = capitals['sweden']\n",
    "print(capital_of_sweden)"
   ]
  },
  {
   "cell_type": "markdown",
   "metadata": {},
   "source": [
    "## 4.4. <a id='toc4_4_'></a>[Summary](#toc0_)"
   ]
  },
  {
   "cell_type": "markdown",
   "metadata": {
    "slideshow": {
     "slide_type": "skip"
    },
    "tags": []
   },
   "source": [
    "The new central concepts are:\n",
    "\n",
    "1. Containers (lists, tuples, dictionaries)\n",
    "2. Mutable/immutable\n",
    "3. Slicing of lists and tuples\n",
    "4. Referencing (copy and deepcopy)\n",
    "5. Key-value pairs for dictionaries"
   ]
  },
  {
   "cell_type": "markdown",
   "metadata": {
    "slideshow": {
     "slide_type": "skip"
    },
    "tags": []
   },
   "source": [
    "**Note:** All atomic types as immutable, and only strings are subscriptable."
   ]
  },
  {
   "cell_type": "code",
   "execution_count": 38,
   "metadata": {
    "slideshow": {
     "slide_type": "skip"
    },
    "tags": []
   },
   "outputs": [
    {
     "name": "stdout",
     "output_type": "stream",
     "text": [
      "abc\n",
      "de\n",
      "f\n",
      "strings are immutable\n"
     ]
    }
   ],
   "source": [
    "x = 'abcdef'\n",
    "print(x[:3])\n",
    "print(x[3:5])\n",
    "print(x[5:])\n",
    "try:\n",
    "    x[0] = 'f'\n",
    "except:\n",
    "    print('strings are immutable')"
   ]
  },
  {
   "cell_type": "markdown",
   "metadata": {},
   "source": [
    "# 5. <a id='toc5_'></a>[Extra](#toc0_)"
   ]
  },
  {
   "attachments": {},
   "cell_type": "markdown",
   "metadata": {
    "slideshow": {
     "slide_type": "skip"
    },
    "tags": []
   },
   "source": [
    "Other interesting containers are e.g. **namedtuple** and **OrderDict** (see [collections](https://docs.python.org/2/library/collections.html)), and [**sets**](https://docs.python.org/2/library/sets.html)."
   ]
  },
  {
   "cell_type": "markdown",
   "metadata": {},
   "source": [
    "## 5.1. <a id='toc5_1_'></a>[SimpleNamespace](#toc0_)"
   ]
  },
  {
   "attachments": {},
   "cell_type": "markdown",
   "metadata": {},
   "source": [
    "[SimpleNamespace](https://docs.python.org/3/library/types.html) are also sometimes handy as replacements for dictionaries. They have fewer capabilities (are not really containers) but offer shorter syntax, as they replace *x['abc]* with *x.abc*"
   ]
  },
  {
   "cell_type": "code",
   "execution_count": 39,
   "metadata": {},
   "outputs": [],
   "source": [
    "from types import SimpleNamespace"
   ]
  },
  {
   "cell_type": "code",
   "execution_count": 40,
   "metadata": {},
   "outputs": [
    {
     "name": "stdout",
     "output_type": "stream",
     "text": [
      "namespace(abc=1.2, D=1, ef=2.74, G=30)\n"
     ]
    }
   ],
   "source": [
    "x = {'abc': 1.2, 'D': 1, 'ef': 2.74, 'G': 30} # Re-reate a dictionary\n",
    "y = SimpleNamespace(**x)  # Turn it into a SimpleNamespace. \n",
    "# Alternatively it can be created as SimpleNamespace(abc=1.2,D=1, ef=2.74, G=30)\n",
    "\n",
    "print(y)"
   ]
  },
  {
   "attachments": {},
   "cell_type": "markdown",
   "metadata": {},
   "source": [
    "Now we reference the elements using dot notation"
   ]
  },
  {
   "cell_type": "code",
   "execution_count": 41,
   "metadata": {},
   "outputs": [
    {
     "name": "stdout",
     "output_type": "stream",
     "text": [
      "From Dictionary: 1.2\n",
      "From SimpleNamespace: 1.2\n",
      "From Dictionary: 30\n",
      "From SimpleNamespace: 30\n"
     ]
    }
   ],
   "source": [
    "print('From Dictionary:', x['abc'])\n",
    "print('From SimpleNamespace:', y.abc)\n",
    "\n",
    "print('From Dictionary:', x['G'])\n",
    "print('From SimpleNamespace:', y.G)"
   ]
  },
  {
   "attachments": {},
   "cell_type": "markdown",
   "metadata": {},
   "source": [
    "The only reason for wanting to do this transformation is the simpler syntax as you avoid writing *['']* <br>\n",
    "But you do loose some dictionary capabilities you will learn about later in the course. You can easily turn a simple name space into a dictionary:"
   ]
  },
  {
   "cell_type": "code",
   "execution_count": 42,
   "metadata": {},
   "outputs": [
    {
     "name": "stdout",
     "output_type": "stream",
     "text": [
      "<class 'dict'>\n",
      "{'abc': 1.2, 'D': 1, 'ef': 2.74, 'G': 30}\n"
     ]
    }
   ],
   "source": [
    "y_asdict = y.__dict__\n",
    "print(type(y_asdict))\n",
    "print(y_asdict)"
   ]
  }
 ],
 "metadata": {
  "kernelspec": {
   "display_name": "Python 3 (ipykernel)",
   "language": "python",
   "name": "python3"
  },
  "language_info": {
   "codemirror_mode": {
    "name": "ipython",
    "version": 3
   },
   "file_extension": ".py",
   "mimetype": "text/x-python",
   "name": "python",
   "nbconvert_exporter": "python",
   "pygments_lexer": "ipython3",
   "version": "3.9.15"
  },
  "vscode": {
   "interpreter": {
    "hash": "2164e4eaf16dd6cd705646718fcef4f5f263bad5b7d103e76e9308c0132ca24b"
   }
  }
 },
 "nbformat": 4,
 "nbformat_minor": 2
}
