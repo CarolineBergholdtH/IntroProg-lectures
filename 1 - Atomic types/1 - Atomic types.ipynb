{
 "cells": [
  {
   "cell_type": "markdown",
   "metadata": {},
   "source": [
    "# Atomic types"
   ]
  },
  {
   "cell_type": "markdown",
   "metadata": {},
   "source": [
    "**Table of contents**<a id='toc0_'></a>    \n",
    "- 1. [Your first notebook session](#toc1_)    \n",
    "  - 1.1. [Execution of code in cells](#toc1_1_)    \n",
    "- 2. [Fundamentals](#toc2_)    \n",
    "- 3. [The work flow of your computer](#toc3_)    \n",
    "  - 3.1. [What is a variable?](#toc3_1_)    \n",
    "- 4. [Atomic types](#toc4_)    \n",
    "  - 4.1. [Type conversion](#toc4_1_)    \n",
    "  - 4.2. [Operators](#toc4_2_)    \n",
    "  - 4.3. [Augmentation](#toc4_3_)    \n",
    "  - 4.4. [Logical operators](#toc4_4_)    \n",
    "- 5. [Summary](#toc5_)    \n",
    "\n",
    "<!-- vscode-jupyter-toc-config\n",
    "\tnumbering=true\n",
    "\tanchor=true\n",
    "\tflat=false\n",
    "\tminLevel=2\n",
    "\tmaxLevel=6\n",
    "\t/vscode-jupyter-toc-config -->\n",
    "<!-- THIS CELL WILL BE REPLACED ON TOC UPDATE. DO NOT WRITE YOUR TEXT IN THIS CELL -->"
   ]
  },
  {
   "attachments": {},
   "cell_type": "markdown",
   "metadata": {
    "slideshow": {
     "slide_type": "skip"
    },
    "tags": []
   },
   "source": [
    "In the beginning of this course you will be given an in-depth introduction to the **fundamentals of Python** (objects, variables, operators, classes, methods, functions, conditionals, loops). You learn to discriminate between different **types** such as integers, floats, strings, lists, tuples and dictionaries, and determine whether they are **subscriptable** (slicable) and/or **mutable**. You will learn about **referencing** and **scope**. You will learn a tiny bit about **floating point arithmetics**.\n",
    "\n",
    "**Take-away:** This lecture is rather abstract compared to the rest of the course. The central take-away is **a language** to speak about programming in. An overview of the map, later we will study the terrain in detail. It is not about **memorizing**. Almost no code projects begin from scratch, you start by copying in similar code you have written for another project.\n",
    "\n",
    "Hopefully, these notebooks can later be used as a **reference sheet**.\n",
    "\n",
    "**Links:**\n",
    "\n",
    "* **Tutorial:** A more detailed tutorial is provided [here](https://www.python-course.eu/python3_course.php).\n",
    "* **Markdown:** All text cells are written in *Markdown*. A guide is provided [here](https://www.markdownguide.org/basic-syntax/)."
   ]
  },
  {
   "attachments": {},
   "cell_type": "markdown",
   "metadata": {},
   "source": [
    "## 1. <a id='toc1_'></a>[Your first notebook session](#toc0_)\n",
    "\n",
    "**Optimally:** You have this notebook open as well on your own computer.\n",
    "\n",
    "**Download course material**\n",
    "\n",
    "1. Follow the [installation guide](https://sites.google.com/view/numeconcph-introprog/guides/installation)\n",
    "1. Follow the download part of the [git guide](https://sites.google.com/view/numeconcph-introprog/guides/git)"
   ]
  },
  {
   "attachments": {},
   "cell_type": "markdown",
   "metadata": {
    "slideshow": {
     "slide_type": "slide"
    },
    "tags": []
   },
   "source": [
    "**Updating your local version of a notebook.**\n",
    "\n",
    "During the course, minor changes of notebooks are likely to occur, you can update directly from VS code using: \n",
    "\n",
    "`crtl+shit+p` then type `git: sync`\n"
   ]
  },
  {
   "cell_type": "markdown",
   "metadata": {
    "jp-MarkdownHeadingCollapsed": true,
    "slideshow": {
     "slide_type": "skip"
    },
    "tags": []
   },
   "source": [
    "**PROBLEMS?** Ask your teaching asssistant ASAP."
   ]
  },
  {
   "attachments": {},
   "cell_type": "markdown",
   "metadata": {},
   "source": [
    "### 1.1. <a id='toc1_1_'></a>[Execution of code in cells](#toc0_)\n",
    "\n",
    "* **Movements**: Arrows and scrolling\n",
    "* **Run cell and advance:** <kbd>Shift</kbd>+<kbd>Enter</kbd>\n",
    "* **Run cell**: <kbd>Ctrl</kbd>+<kbd>Enter</kbd>\n",
    "* **Create cell below**: <kbd>B</kbd>\n",
    "* **Create cell above**: <kbd>A</kbd>\n",
    "* **Edit:** <kbd>Enter</kbd>\n",
    "* **Exit edit:** <kbd>Esc</kbd>\n",
    "* **Change to markdown cell:** <kbd>M</kbd>\n",
    "* **Change to code cell:** <kbd>Y</kbd>\n",
    "* **Delete cell:** <kbd>D+D</kbd>"
   ]
  },
  {
   "attachments": {},
   "cell_type": "markdown",
   "metadata": {},
   "source": [
    "### 3.1. <a id='toc3_1_'></a>[What is a variable?](#toc0_)\n",
    "\n",
    "* A variable in python is a **reference** (or *pointer*) to a place in memory where data resides.\n",
    "* This could also be called an **address**, and can be found using the buit-in `id()`-function. \n",
    "* There are *many* types of variables. \n",
    "* Some store data **directly**, some are **containers** for data.\n",
    "* There are **4 types** of data:\n",
    "    * Booleans (true/false)\n",
    "    * Integers\n",
    "    * Floats (decimal numbers)\n",
    "    * Strings\n",
    "* The 4 kinds of data use **different amounts of memory** pr unit. Important not to waste memory! \n",
    "* A variable that references one of these data types **directly** is an **Atomic type**.  \n",
    "    The data of an atomic type is **unchangeable** at the address. \n",
    "* Variable types that are containers are eg. **lists**, **dictionaries**, **data frames**, etc.  \n",
    "    Their data is allowed to change.\n",
    "* **All variables are objects**: bundles of data and functions. "
   ]
  },
  {
   "cell_type": "markdown",
   "metadata": {},
   "source": [
    "## 4. <a id='toc4_'></a>[Atomic types](#toc0_)\n",
    "\n",
    "The most simple types are called **atomic**, because they cannot be changed - only overwritten. "
   ]
  },
  {
   "cell_type": "markdown",
   "metadata": {
    "slideshow": {
     "slide_type": "slide"
    },
    "tags": []
   },
   "source": [
    "**Integers (int):** -3, -2, -1, 0, 1, 2, 3, $\\ldots, \\infty$  \n",
    "There is no cap on the size of ints in python!"
   ]
  },
  {
   "cell_type": "code",
   "execution_count": null,
   "metadata": {},
   "outputs": [],
   "source": [
    "import sys # Don't worry about this, it is a built in module which allows us to see how much memory objects fill on our computer"
   ]
  },
  {
   "cell_type": "code",
   "execution_count": null,
   "metadata": {
    "slideshow": {
     "slide_type": "fragment"
    },
    "tags": []
   },
   "outputs": [],
   "source": [
    "# variable x references an integer type object with a value of 1\n",
    "x = 1 \n",
    "\n",
    "print('x is a', type(x)) # prints the type of x\n",
    "print('x =', x)\n",
    "print('Address of x is',id(x)) \n",
    "print('x uses',sys.getsizeof(x),'bytes')\n",
    "\n",
    "x = x*2\n",
    "print('\\nNote that the address is new, as x gets a new value!')\n",
    "print('x =', x)\n",
    "print('Address of x is',id(x)) "
   ]
  },
  {
   "cell_type": "markdown",
   "metadata": {
    "slideshow": {
     "slide_type": "slide"
    },
    "tags": []
   },
   "source": [
    "**Decimal numbers (float)**: 3.14, 2.72, 1.0, etc."
   ]
  },
  {
   "cell_type": "code",
   "execution_count": null,
   "metadata": {
    "slideshow": {
     "slide_type": "fragment"
    },
    "tags": []
   },
   "outputs": [],
   "source": [
    "x = 1.2\n",
    "# variable x references an floating point (decimal number) type object \n",
    "# with a value of 1.2 \n",
    "\n",
    "print('x is a',type(x))\n",
    "print('x =',x)\n",
    "print('x uses',sys.getsizeof(x),'bytes')"
   ]
  },
  {
   "cell_type": "markdown",
   "metadata": {
    "slideshow": {
     "slide_type": "slide"
    },
    "tags": []
   },
   "source": [
    "**Strings (str)**: 'abc', '123', 'this is a full sentence', etc."
   ]
  },
  {
   "cell_type": "code",
   "execution_count": null,
   "metadata": {
    "slideshow": {
     "slide_type": "fragment"
    },
    "tags": []
   },
   "outputs": [],
   "source": [
    "x = 'abc' \n",
    "# variable x references a string type opbject \n",
    "# with a value of 'abc'\n",
    "\n",
    "print('x is a',type(x))\n",
    "print('x =',x)\n",
    "print('x uses',sys.getsizeof(x),'bytes')"
   ]
  },
  {
   "cell_type": "markdown",
   "metadata": {
    "slideshow": {
     "slide_type": "fragment"
    },
    "tags": []
   },
   "source": [
    "**Note:** Alternatively, use double quotes instead of single quotes."
   ]
  },
  {
   "cell_type": "code",
   "execution_count": null,
   "metadata": {
    "slideshow": {
     "slide_type": "skip"
    },
    "tags": []
   },
   "outputs": [],
   "source": [
    "x = \"abc\" \n",
    "# variable x reference a string type opbject \n",
    "# with a value of 'abc'\n",
    "\n",
    "print('x is a',type(x))\n",
    "print('x =',x)\n",
    "sys.getsizeof(\"abc\")"
   ]
  },
  {
   "cell_type": "markdown",
   "metadata": {
    "slideshow": {
     "slide_type": "slide"
    },
    "tags": []
   },
   "source": [
    "**Booleans (bool)**: True and False"
   ]
  },
  {
   "cell_type": "code",
   "execution_count": null,
   "metadata": {
    "slideshow": {
     "slide_type": "fragment"
    },
    "tags": []
   },
   "outputs": [],
   "source": [
    "x = True \n",
    "# variable x reference a boolean type opbject \n",
    "# with a value of False\n",
    "\n",
    "print('x is a',type(x))\n",
    "print('x =',x)\n",
    "print('x uses',sys.getsizeof(x),'bytes')"
   ]
  },
  {
   "cell_type": "markdown",
   "metadata": {
    "slideshow": {
     "slide_type": "skip"
    },
    "tags": []
   },
   "source": [
    "**Atomic types:**\n",
    "\n",
    "1. Integers, *int*\n",
    "2. Floating point numbers, *float*\n",
    "3. Strings, *str*\n",
    "4. Booleans, *bool*"
   ]
  },
  {
   "cell_type": "markdown",
   "metadata": {},
   "source": [
    "### 4.1. <a id='toc4_1_'></a>[Type conversion](#toc0_)\n",
    "\n",
    "Objects of one type can (sometimes) be **converted** into another type.  \n",
    "This obviously changes the address of an atomic type.  \n",
    "As an example, from float to string:"
   ]
  },
  {
   "cell_type": "code",
   "execution_count": null,
   "metadata": {
    "slideshow": {
     "slide_type": "fragment"
    },
    "tags": []
   },
   "outputs": [],
   "source": [
    "x = 1.2\n",
    "# variable x references an floating point (decimal number) type object \n",
    "# with a value of 1.2 \n",
    "\n",
    "y = str(x) \n",
    "# variable y now references a string type object \n",
    "# with a value created based on x \n",
    "\n",
    "print('x =', x)\n",
    "print('x is a',type(x))\n",
    "print('y =', y)\n",
    "print('y is a',type(y))"
   ]
  },
  {
   "cell_type": "markdown",
   "metadata": {
    "slideshow": {
     "slide_type": "slide"
    },
    "tags": []
   },
   "source": [
    "From float to integer: **always** rounds down!"
   ]
  },
  {
   "cell_type": "code",
   "execution_count": null,
   "metadata": {
    "slideshow": {
     "slide_type": "fragment"
    },
    "tags": []
   },
   "outputs": [],
   "source": [
    "x = 2.9\n",
    "\n",
    "y = int(x) # variable y now references an integer type object  \n",
    "print('x =', x)\n",
    "print('y =', y)\n",
    "print('y is a',type(y))"
   ]
  },
  {
   "cell_type": "markdown",
   "metadata": {
    "slideshow": {
     "slide_type": "fragment"
    },
    "tags": []
   },
   "source": [
    "**Limitation:** You can, however, e.g. not convert a string **with letters** to an integer."
   ]
  },
  {
   "cell_type": "code",
   "execution_count": null,
   "metadata": {
    "slideshow": {
     "slide_type": "skip"
    },
    "tags": []
   },
   "outputs": [],
   "source": [
    "try: # try to run this block\n",
    "    x = int('222a')\n",
    "    print('can be done')\n",
    "    print(x)\n",
    "except: # if any error found run this block instead\n",
    "    print('canNOT be done')\n",
    "    "
   ]
  },
  {
   "attachments": {},
   "cell_type": "markdown",
   "metadata": {
    "slideshow": {
     "slide_type": "skip"
    },
    "tags": []
   },
   "source": [
    "**Note**: The identation is required, and can be achieved using Tab, (typically 4 spaces)."
   ]
  },
  {
   "attachments": {},
   "cell_type": "markdown",
   "metadata": {},
   "source": [
    "But you can convert a string with only numbers to an integer (or float)"
   ]
  },
  {
   "cell_type": "code",
   "execution_count": null,
   "metadata": {},
   "outputs": [],
   "source": [
    "x = float('22.2')\n",
    "print('x =', x)\n",
    "y = int('222')\n",
    "print('y =', y)"
   ]
  },
  {
   "cell_type": "markdown",
   "metadata": {
    "slideshow": {
     "slide_type": "slide"
    },
    "tags": []
   },
   "source": [
    "**Question**: Can you convert a boolean variable `x = False` to an integer?\n",
    "\n",
    "- **A:** No\n",
    "- **B:** Yes, and the result is 0\n",
    "- **C:** Yes, and the result is 1\n",
    "- **D:** Yes, and the result is -1\n",
    "- **E:** Don't know"
   ]
  },
  {
   "cell_type": "markdown",
   "metadata": {},
   "source": [
    "### 4.2. <a id='toc4_2_'></a>[Operators](#toc0_)"
   ]
  },
  {
   "cell_type": "markdown",
   "metadata": {
    "slideshow": {
     "slide_type": "skip"
    },
    "tags": []
   },
   "source": [
    "Variables can be combined using **arithmetic operators** (e.g. +, -, /, **).<br>For numbers we have:"
   ]
  },
  {
   "cell_type": "code",
   "execution_count": null,
   "metadata": {
    "slideshow": {
     "slide_type": "skip"
    },
    "tags": []
   },
   "outputs": [],
   "source": [
    "x = 3\n",
    "y = 2\n",
    "print(x+y)\n",
    "print(x-y)\n",
    "print(x/y)\n",
    "print(x*y)\n",
    "print(x**2)"
   ]
  },
  {
   "cell_type": "markdown",
   "metadata": {
    "slideshow": {
     "slide_type": "skip"
    },
    "tags": []
   },
   "source": [
    "For strings we can use an overloaded '+' for concatenation:"
   ]
  },
  {
   "cell_type": "code",
   "execution_count": null,
   "metadata": {
    "slideshow": {
     "slide_type": "skip"
    },
    "tags": []
   },
   "outputs": [],
   "source": [
    "x = 'abc'\n",
    "y = 'def'\n",
    "print(x+y)"
   ]
  },
  {
   "cell_type": "markdown",
   "metadata": {
    "slideshow": {
     "slide_type": "skip"
    },
    "tags": []
   },
   "source": [
    "A string can also be multiplied by an integer:"
   ]
  },
  {
   "cell_type": "code",
   "execution_count": null,
   "metadata": {
    "slideshow": {
     "slide_type": "skip"
    },
    "tags": []
   },
   "outputs": [],
   "source": [
    "x = 'abc'\n",
    "y = 2\n",
    "print(x*y)"
   ]
  },
  {
   "cell_type": "markdown",
   "metadata": {
    "slideshow": {
     "slide_type": "skip"
    },
    "tags": []
   },
   "source": [
    "**Question**: What is the result of `x = 3**2`?\n",
    "\n",
    "- **A:** `x = 3`\n",
    "- **B:** `x = 6`\n",
    "- **C:** `x = 9`\n",
    "- **D:** `x = 12`\n",
    "- **E:** Don't know\n"
   ]
  },
  {
   "cell_type": "markdown",
   "metadata": {
    "slideshow": {
     "slide_type": "skip"
    },
    "tags": []
   },
   "source": [
    "**Note:** Standard division converts integers to floating point numbers."
   ]
  },
  {
   "cell_type": "code",
   "execution_count": null,
   "metadata": {
    "slideshow": {
     "slide_type": "skip"
    },
    "tags": []
   },
   "outputs": [],
   "source": [
    "x = 8\n",
    "y = x/2 # standard division\n",
    "z = x//3 # integer division (This rounds down, like when we used int() )\n",
    "print(y,type(y))\n",
    "print(z,type(z))"
   ]
  },
  {
   "cell_type": "markdown",
   "metadata": {},
   "source": [
    "### 4.3. <a id='toc4_3_'></a>[Augmentation](#toc0_)\n",
    "\n",
    "Variables can be changed using **augmentation operators** (e.g. +=, -=, *=, /=)"
   ]
  },
  {
   "cell_type": "code",
   "execution_count": null,
   "metadata": {
    "slideshow": {
     "slide_type": "fragment"
    },
    "tags": []
   },
   "outputs": [],
   "source": [
    "x = 3 \n",
    "print('x =',x)\n",
    "\n",
    "x += 1 # same result as x = x+1\n",
    "print('x =',x)\n",
    "x *= 2 # same result as x = x*2\n",
    "print('x =',x)\n",
    "x /= 2 # same result as x = x/2\n",
    "print('x =',x)"
   ]
  },
  {
   "cell_type": "markdown",
   "metadata": {},
   "source": [
    "### 4.4. <a id='toc4_4_'></a>[Logical operators](#toc0_)\n",
    "\n",
    "Variables can be compared using **boolean operators** (e.g. ==, !=, <, <=, >, >=). "
   ]
  },
  {
   "cell_type": "code",
   "execution_count": null,
   "metadata": {
    "slideshow": {
     "slide_type": "fragment"
    },
    "tags": []
   },
   "outputs": [],
   "source": [
    "x = 3\n",
    "y = 2\n",
    "z = 10\n",
    "print(x < y) # less than\n",
    "print(x <= y) # less than or equal\n",
    "print(x != y) # not equal\n",
    "print(x == y) # equal"
   ]
  },
  {
   "cell_type": "markdown",
   "metadata": {
    "slideshow": {
     "slide_type": "fragment"
    },
    "tags": []
   },
   "source": [
    "The comparison returns a boolean variable:"
   ]
  },
  {
   "cell_type": "code",
   "execution_count": null,
   "metadata": {
    "slideshow": {
     "slide_type": "fragment"
    },
    "tags": []
   },
   "outputs": [],
   "source": [
    "z = x < y # z is now a boolean variable\n",
    "print(z)"
   ]
  },
  {
   "cell_type": "markdown",
   "metadata": {},
   "source": [
    "## 5. <a id='toc5_'></a>[Summary](#toc0_)"
   ]
  },
  {
   "cell_type": "markdown",
   "metadata": {
    "slideshow": {
     "slide_type": "skip"
    },
    "tags": []
   },
   "source": [
    "The new central concepts are:\n",
    "\n",
    "1. Variable\n",
    "2. Reference\n",
    "3. Object\n",
    "4. Type (int, float, str, bool)\n",
    "5. Value\n",
    "6. Operator (+, -, *, **, /, //, % etc.)\n",
    "7. Augmentation (+=, -=, *=, /= etc.)\n",
    "8. Comparison (==, !=, <, <= etc.)"
   ]
  }
 ],
 "metadata": {
  "kernelspec": {
   "display_name": "base",
   "language": "python",
   "name": "python3"
  },
  "language_info": {
   "codemirror_mode": {
    "name": "ipython",
    "version": 3
   },
   "file_extension": ".py",
   "mimetype": "text/x-python",
   "name": "python",
   "nbconvert_exporter": "python",
   "pygments_lexer": "ipython3",
   "version": "3.9.15"
  },
  "orig_nbformat": 4,
  "vscode": {
   "interpreter": {
    "hash": "2164e4eaf16dd6cd705646718fcef4f5f263bad5b7d103e76e9308c0132ca24b"
   }
  }
 },
 "nbformat": 4,
 "nbformat_minor": 2
}
